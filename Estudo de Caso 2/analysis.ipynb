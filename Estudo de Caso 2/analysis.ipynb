{
 "cells": [
  {
   "cell_type": "markdown",
   "metadata": {},
   "source": [
    "#### Instala as dependências da aplicação\n",
    "###### Baseado em: https://jakevdp.github.io/blog/2017/12/05/installing-python-packages-from-jupyter/"
   ]
  },
  {
   "cell_type": "code",
   "execution_count": 1,
   "metadata": {},
   "outputs": [],
   "source": [
    "import sys\n",
    "# !{sys.executable} -m pip install pandas plotly seaborn"
   ]
  },
  {
   "cell_type": "markdown",
   "metadata": {},
   "source": [
    "#### Importa as dependências utilizadas"
   ]
  },
  {
   "cell_type": "code",
   "execution_count": 2,
   "metadata": {},
   "outputs": [],
   "source": [
    "import math\n",
    "import pandas as pd\n",
    "import seaborn as sns\n",
    "import plotly.express as plx\n",
    "from pyspark.sql import SparkSession\n",
    "from IPython.display import display\n",
    "import pyspark.sql.types as pyt\n",
    "import pyspark.sql.functions as pyf\n",
    "from matplotlib import pyplot as plt"
   ]
  },
  {
   "cell_type": "markdown",
   "metadata": {},
   "source": [
    "#### Inicializa uma seção do Apache Spark"
   ]
  },
  {
   "cell_type": "code",
   "execution_count": 3,
   "metadata": {},
   "outputs": [
    {
     "name": "stderr",
     "output_type": "stream",
     "text": [
      "WARNING: An illegal reflective access operation has occurred\n",
      "WARNING: Illegal reflective access by org.apache.spark.unsafe.Platform (file:/usr/local/spark-3.2.0-bin-hadoop3.2/jars/spark-unsafe_2.12-3.2.0.jar) to constructor java.nio.DirectByteBuffer(long,int)\n",
      "WARNING: Please consider reporting this to the maintainers of org.apache.spark.unsafe.Platform\n",
      "WARNING: Use --illegal-access=warn to enable warnings of further illegal reflective access operations\n",
      "WARNING: All illegal access operations will be denied in a future release\n",
      "Using Spark's default log4j profile: org/apache/spark/log4j-defaults.properties\n",
      "Setting default log level to \"WARN\".\n",
      "To adjust logging level use sc.setLogLevel(newLevel). For SparkR, use setLogLevel(newLevel).\n",
      "22/01/18 10:50:09 WARN NativeCodeLoader: Unable to load native-hadoop library for your platform... using builtin-java classes where applicable\n"
     ]
    }
   ],
   "source": [
    "spark = SparkSession.builder.appName(\"Analysis\") \\\n",
    "    .master('local[*]') \\\n",
    "    .getOrCreate()"
   ]
  },
  {
   "cell_type": "markdown",
   "metadata": {},
   "source": [
    "#### Define as informações de acesso para a planilha de dados"
   ]
  },
  {
   "cell_type": "code",
   "execution_count": 4,
   "metadata": {},
   "outputs": [],
   "source": [
    "# OKR\n",
    "OKR_SHEET_FILE_PATH = \"./Case2/dados/dados_okr.xlsx\"\n",
    "OBJECTIVES_SHEET_NAME = \"objectives\"\n",
    "KEY_RESULTS_SHEET_NAME = \"key_results\"\n",
    "\n",
    "# Values\n",
    "VALUES_SHEET_FILE_PATH = \"./Case2/dados/dados_values.xlsx\"\n",
    "QUESTIONS_SHEET_NAME =  \"keyBehaviors\"\n",
    "SUBJECTS_SHEET_NAME = \"subjects\"\n",
    "CATEGORIES_SHEET_NAME = \"categories\""
   ]
  },
  {
   "cell_type": "markdown",
   "metadata": {},
   "source": [
    "### Objetivos e Resultados Chaves"
   ]
  },
  {
   "cell_type": "markdown",
   "metadata": {},
   "source": [
    "#### Lê todas as planilhas de dados dos OKR's"
   ]
  },
  {
   "cell_type": "code",
   "execution_count": 5,
   "metadata": {},
   "outputs": [],
   "source": [
    "df_objectives = spark.createDataFrame(\n",
    "    pd.io.excel.read_excel(OKR_SHEET_FILE_PATH, sheet_name=OBJECTIVES_SHEET_NAME)\n",
    ")\n",
    "\n",
    "df_key_results = spark.createDataFrame(\n",
    "    pd.io.excel.read_excel(OKR_SHEET_FILE_PATH, sheet_name=KEY_RESULTS_SHEET_NAME)\n",
    ")"
   ]
  },
  {
   "cell_type": "markdown",
   "metadata": {},
   "source": [
    "### Objetivos"
   ]
  },
  {
   "cell_type": "markdown",
   "metadata": {},
   "source": [
    "##### Trecho do dataframe de objetivos"
   ]
  },
  {
   "cell_type": "code",
   "execution_count": 6,
   "metadata": {},
   "outputs": [
    {
     "name": "stderr",
     "output_type": "stream",
     "text": [
      "[Stage 0:>                                                          (0 + 1) / 1]\r"
     ]
    },
    {
     "name": "stdout",
     "output_type": "stream",
     "text": [
      "+---+-------+---------+----------+---------+------------------+-------------------+\n",
      "| id|user_id|parent_id|section_id|period_id|          progress|         created_at|\n",
      "+---+-------+---------+----------+---------+------------------+-------------------+\n",
      "| 10|     23|      NaN|       1.0|        1|0.8226190476190476|2018-11-13 14:14:05|\n",
      "| 13|      8|     10.0|       3.0|        1|0.8333333333333333|2018-11-16 17:55:49|\n",
      "| 18|     30|     10.0|      15.0|        1|               1.0|2018-11-21 09:54:09|\n",
      "| 19|     78|     10.0|      21.0|        1|               1.0|2018-11-21 10:06:00|\n",
      "| 20|     15|     10.0|       6.0|        1|               0.5|2018-11-21 10:39:07|\n",
      "| 21|     54|     10.0|       5.0|        1|               1.0|2018-11-21 17:18:18|\n",
      "| 22|     54|     10.0|       4.0|        1|               0.0|2018-11-21 17:26:12|\n",
      "| 23|     33|     10.0|      16.0|        1|               0.5|2018-11-22 08:58:56|\n",
      "| 26|     78|     40.0|      21.0|        3|0.6532155092592592|2019-01-08 08:57:07|\n",
      "| 27|     77|     26.0|      21.0|        3|0.5513333333333333|2019-01-08 09:01:34|\n",
      "| 29|     76|     26.0|      21.0|        3|0.5459541666666666|2019-01-08 11:15:33|\n",
      "| 30|     74|     26.0|      21.0|        3|          0.954125|2019-01-08 11:17:57|\n",
      "| 31|     75|     26.0|      21.0|        3|0.7791666666666667|2019-01-08 11:20:29|\n",
      "| 32|     63|     26.0|      21.0|        3|              0.48|2019-01-08 11:24:17|\n",
      "| 40|     23|      NaN|       1.0|        3|0.7351376850461703|2019-01-14 13:30:56|\n",
      "| 41|     23|      NaN|       1.0|        4|0.8322082564221771|2019-01-14 15:09:10|\n",
      "| 42|      8|     40.0|       3.0|        3|0.7866524216524216|2019-01-15 10:55:07|\n",
      "| 45|     89|     40.0|       8.0|        3|              0.12|2019-01-16 14:36:51|\n",
      "| 46|     15|     40.0|      13.0|        3|            0.2005|2019-01-17 09:57:15|\n",
      "| 47|     21|     46.0|       NaN|        3|               0.0|2019-01-17 10:46:36|\n",
      "+---+-------+---------+----------+---------+------------------+-------------------+\n",
      "only showing top 20 rows\n",
      "\n"
     ]
    },
    {
     "name": "stderr",
     "output_type": "stream",
     "text": [
      "                                                                                \r"
     ]
    }
   ],
   "source": [
    "df_objectives.show()"
   ]
  },
  {
   "cell_type": "markdown",
   "metadata": {},
   "source": [
    "##### Quantidade de linhas no dataframe de objetivos"
   ]
  },
  {
   "cell_type": "code",
   "execution_count": 7,
   "metadata": {},
   "outputs": [
    {
     "data": {
      "text/plain": [
       "584"
      ]
     },
     "execution_count": 7,
     "metadata": {},
     "output_type": "execute_result"
    }
   ],
   "source": [
    "df_objectives.count()"
   ]
  },
  {
   "cell_type": "markdown",
   "metadata": {},
   "source": [
    "##### Descreve os dados do dataframe de objetivos"
   ]
  },
  {
   "cell_type": "code",
   "execution_count": 8,
   "metadata": {},
   "outputs": [
    {
     "name": "stderr",
     "output_type": "stream",
     "text": [
      "[Stage 4:>                                                          (0 + 8) / 8]\r"
     ]
    },
    {
     "name": "stdout",
     "output_type": "stream",
     "text": [
      "+-------+------------------+------------------+---------+----------+------------------+------------------+-------------------+\n",
      "|summary|                id|           user_id|parent_id|section_id|         period_id|          progress|         created_at|\n",
      "+-------+------------------+------------------+---------+----------+------------------+------------------+-------------------+\n",
      "|  count|               584|               584|      584|       584|               584|               584|                584|\n",
      "|   mean|483.61301369863014|149.21575342465752|      NaN|       NaN|14.121575342465754|0.8286730906774055|               null|\n",
      "| stddev|  269.157132211022| 107.3847925889079|      NaN|       NaN| 7.040481835642982|  8.70948171459407|               null|\n",
      "|    min|                10|                 3|     10.0|       1.0|                 1|               0.0|2018-11-13 14:14:05|\n",
      "|    max|               921|               493|      NaN|       NaN|                25| 210.7320688732786|2021-12-03 10:54:24|\n",
      "+-------+------------------+------------------+---------+----------+------------------+------------------+-------------------+\n",
      "\n"
     ]
    },
    {
     "name": "stderr",
     "output_type": "stream",
     "text": [
      "                                                                                \r"
     ]
    }
   ],
   "source": [
    "df_objectives.describe().show()"
   ]
  },
  {
   "cell_type": "markdown",
   "metadata": {},
   "source": [
    "#### Eliminando amostras outliers.\n",
    "O progresso máximo é 210.73, como campo é um valor percentual, claramente existe algum outlier"
   ]
  },
  {
   "cell_type": "code",
   "execution_count": 9,
   "metadata": {},
   "outputs": [
    {
     "name": "stdout",
     "output_type": "stream",
     "text": [
      "+---+-------+---------+----------+---------+-----------------+-------------------+\n",
      "| id|user_id|parent_id|section_id|period_id|         progress|         created_at|\n",
      "+---+-------+---------+----------+---------+-----------------+-------------------+\n",
      "|686|    106|    651.0|       NaN|       16|210.7320688732786|2021-03-15 15:27:31|\n",
      "|666|    259|    651.0|       NaN|       16|          2.83925|2021-02-23 16:13:45|\n",
      "|693|    256|    652.0|       NaN|       16|2.275941176470588|2021-03-15 15:44:08|\n",
      "|694|    263|    652.0|       NaN|       16|1.683292647058823|2021-03-15 15:46:04|\n",
      "|493|    160|    478.0|       NaN|       14|1.600142857142857|2020-10-23 09:19:27|\n",
      "|648|    204|    651.0|       NaN|       16|         1.548125|2021-02-18 14:51:50|\n",
      "|688|    246|    652.0|       NaN|       16|              1.5|2021-03-15 15:31:33|\n",
      "|482|     68|    478.0|       NaN|       14|1.498172077922078|2020-10-23 08:58:28|\n",
      "|687|    160|    652.0|       NaN|       16|1.350367647058824|2021-03-15 15:29:10|\n",
      "|481|    106|    478.0|       NaN|       14|1.347214285714286|2020-10-23 08:57:54|\n",
      "+---+-------+---------+----------+---------+-----------------+-------------------+\n",
      "only showing top 10 rows\n",
      "\n"
     ]
    }
   ],
   "source": [
    "df_objectives.orderBy(pyf.col('progress').desc()).show(n=10)"
   ]
  },
  {
   "cell_type": "markdown",
   "metadata": {},
   "source": [
    "##### O objetivo de ID igual a 686 é considerado um outilier pois possui uma performance totalmente desproporcional a realidade e por isso é removido do dataframe"
   ]
  },
  {
   "cell_type": "code",
   "execution_count": 10,
   "metadata": {},
   "outputs": [],
   "source": [
    "df_objectives = df_objectives.where('id != 686')"
   ]
  },
  {
   "cell_type": "markdown",
   "metadata": {},
   "source": [
    "##### Quantidade média de objetivos por colaborador"
   ]
  },
  {
   "cell_type": "code",
   "execution_count": 11,
   "metadata": {},
   "outputs": [
    {
     "name": "stdout",
     "output_type": "stream",
     "text": [
      "+-----------------+\n",
      "|       avg(count)|\n",
      "+-----------------+\n",
      "|3.429411764705882|\n",
      "+-----------------+\n",
      "\n"
     ]
    }
   ],
   "source": [
    "df_objectives.groupby('user_id') \\\n",
    "    .count() \\\n",
    "    .agg(pyf.mean('count')) \\\n",
    "    .show()"
   ]
  },
  {
   "cell_type": "markdown",
   "metadata": {},
   "source": [
    "#### Estatísticas básicas da coluna de progresso"
   ]
  },
  {
   "cell_type": "code",
   "execution_count": 12,
   "metadata": {},
   "outputs": [
    {
     "name": "stdout",
     "output_type": "stream",
     "text": [
      "+-----+---+-------+-------+------------------+-------------------+-------------------+\n",
      "|count|min|    max|  range|              mean|           variance|                std|\n",
      "+-----+---+-------+-------+------------------+-------------------+-------------------+\n",
      "|  583|0.0|2.83925|2.83925|0.4686329606900963|0.15205775878518052|0.38994584083585315|\n",
      "+-----+---+-------+-------+------------------+-------------------+-------------------+\n",
      "\n"
     ]
    }
   ],
   "source": [
    "df_objectives.agg(\n",
    "        pyf.count('progress').alias('count'),\n",
    "        pyf.min(\"progress\").alias('min'),\n",
    "        pyf.max(\"progress\").alias('max'),\n",
    "        (pyf.max(\"progress\") - pyf.min(\"progress\")).alias(\"range\"),\n",
    "        pyf.avg(\"progress\").alias('mean'),\n",
    "        pyf.variance(\"progress\").alias('variance'),\n",
    "        pyf.stddev(\"progress\").alias('std')\n",
    "    ) \\\n",
    "    .show()"
   ]
  },
  {
   "cell_type": "markdown",
   "metadata": {},
   "source": [
    "### Resultados Chaves"
   ]
  },
  {
   "cell_type": "markdown",
   "metadata": {},
   "source": [
    "##### Trecho do dataframe"
   ]
  },
  {
   "cell_type": "code",
   "execution_count": 13,
   "metadata": {},
   "outputs": [
    {
     "name": "stdout",
     "output_type": "stream",
     "text": [
      "+---+------------+-------+------------------+-------------------+\n",
      "| id|objective_id|user_id|          progress|         created_at|\n",
      "+---+------------+-------+------------------+-------------------+\n",
      "| 22|          10|     78|               1.0|2018-11-16 09:56:11|\n",
      "| 27|          10|      8|               0.8|2018-11-19 10:04:57|\n",
      "| 28|          10|      8|               0.8|2018-11-19 10:11:42|\n",
      "| 23|          13|      8|0.6666666666666666|2018-11-16 17:56:28|\n",
      "| 24|          13|      8|               1.0|2018-11-16 17:56:58|\n",
      "| 29|          18|     30|               1.0|2018-11-21 09:56:32|\n",
      "| 30|          18|     30|               1.0|2018-11-21 10:01:46|\n",
      "| 31|          18|     30|               1.0|2018-11-21 10:04:23|\n",
      "| 32|          19|     77|               1.0|2018-11-21 10:11:54|\n",
      "| 33|          19|     77|               1.0|2018-11-21 10:13:10|\n",
      "| 38|          20|     15|               1.0|2018-11-22 09:06:50|\n",
      "| 39|          20|     15|               0.0|2018-11-22 09:07:14|\n",
      "| 34|          21|     53|               1.0|2018-11-21 17:20:28|\n",
      "| 35|          21|     53|               1.0|2018-11-21 17:24:15|\n",
      "| 36|          22|     54|               0.0|2018-11-21 17:45:27|\n",
      "| 37|          22|     54|               0.0|2018-11-21 17:46:46|\n",
      "| 40|          23|     15|               0.0|2018-11-22 09:10:32|\n",
      "| 41|          23|     15|               1.0|2018-11-22 09:11:58|\n",
      "|114|          26|     78|              0.64|2019-01-21 14:02:28|\n",
      "|115|          26|     78|            0.6633|2019-01-21 14:03:24|\n",
      "+---+------------+-------+------------------+-------------------+\n",
      "only showing top 20 rows\n",
      "\n"
     ]
    }
   ],
   "source": [
    "df_key_results.show()"
   ]
  },
  {
   "cell_type": "markdown",
   "metadata": {},
   "source": [
    "##### Quantidade de linhas no dataframe de Resultados Chaves"
   ]
  },
  {
   "cell_type": "code",
   "execution_count": 14,
   "metadata": {},
   "outputs": [
    {
     "data": {
      "text/plain": [
       "1762"
      ]
     },
     "execution_count": 14,
     "metadata": {},
     "output_type": "execute_result"
    }
   ],
   "source": [
    "df_key_results.count()"
   ]
  },
  {
   "cell_type": "markdown",
   "metadata": {},
   "source": [
    "##### Descreve os dados do dataframe de Resultados Chaves"
   ]
  },
  {
   "cell_type": "code",
   "execution_count": 15,
   "metadata": {},
   "outputs": [
    {
     "name": "stdout",
     "output_type": "stream",
     "text": [
      "+-------+------------------+------------------+------------------+------------------+-------------------+\n",
      "|summary|                id|      objective_id|           user_id|          progress|         created_at|\n",
      "+-------+------------------+------------------+------------------+------------------+-------------------+\n",
      "|  count|              1762|              1762|              1762|              1762|               1762|\n",
      "|   mean|1313.2213393870602|448.48637911464243|135.97843359818387|0.9651780235640951|               null|\n",
      "| stddev| 747.7374449536587|259.19779069975425| 96.46154541958202|15.024229551351732|               null|\n",
      "|    min|                22|                10|                 3|               0.0|2018-11-16 09:56:11|\n",
      "|    max|              2555|               921|               461| 629.6666666666429|2021-12-16 09:40:42|\n",
      "+-------+------------------+------------------+------------------+------------------+-------------------+\n",
      "\n"
     ]
    }
   ],
   "source": [
    "df_key_results.describe().show()"
   ]
  },
  {
   "cell_type": "markdown",
   "metadata": {},
   "source": [
    "#### Eliminando outliers\n",
    "O valor máximo do campo progress é 629.66 e como esse campo possui valores percentuais, fica evidente que existe algum outlier"
   ]
  },
  {
   "cell_type": "code",
   "execution_count": 16,
   "metadata": {},
   "outputs": [
    {
     "name": "stdout",
     "output_type": "stream",
     "text": [
      "+----+------------+-------+-----------------+-------------------+\n",
      "|  id|objective_id|user_id|         progress|         created_at|\n",
      "+----+------------+-------+-----------------+-------------------+\n",
      "|1978|         686|    106|629.6666666666429|2021-03-15 15:28:47|\n",
      "| 349|         132|     31| 37.9999999999801|2019-04-12 11:41:48|\n",
      "|1997|         693|    256|             8.25|2021-03-15 15:45:24|\n",
      "|2349|         780|    216|7.339417475728156|2021-07-20 11:12:43|\n",
      "|1483|         502|    123|              5.0|2020-10-29 10:46:36|\n",
      "|1482|         502|     13|              5.0|2020-10-29 10:46:36|\n",
      "| 246|         103|    111|4.993421052631581|2019-02-22 16:42:02|\n",
      "|2000|         694|    263|              3.4|2021-03-15 15:47:43|\n",
      "| 875|         266|    156|3.328026315789474|2020-05-13 09:48:51|\n",
      "|1359|         481|    106|3.214285714285714|2020-10-23 09:29:25|\n",
      "+----+------------+-------+-----------------+-------------------+\n",
      "only showing top 10 rows\n",
      "\n"
     ]
    }
   ],
   "source": [
    "df_key_results.orderBy(pyf.col('progress').desc()).show(n=10)"
   ]
  },
  {
   "cell_type": "markdown",
   "metadata": {},
   "source": [
    "O Resultados chaves de ID igual a 349 e 1978 são os outliers do dataframe"
   ]
  },
  {
   "cell_type": "code",
   "execution_count": 17,
   "metadata": {},
   "outputs": [],
   "source": [
    "df_key_results = df_key_results.where('id not in (349, 1978)')"
   ]
  },
  {
   "cell_type": "markdown",
   "metadata": {},
   "source": [
    "#### Estatísticas básicas baseada na coluna de progresso"
   ]
  },
  {
   "cell_type": "code",
   "execution_count": 18,
   "metadata": {},
   "outputs": [
    {
     "name": "stdout",
     "output_type": "stream",
     "text": [
      "+-----+---+----+-----+-----------------+------------------+------------------+\n",
      "|count|min| max|range|             mean|          variance|               std|\n",
      "+-----+---+----+-----+-----------------+------------------+------------------+\n",
      "| 1760|0.0|8.25| 8.25|0.586918756166655|0.3508358386809182|0.5923139696823959|\n",
      "+-----+---+----+-----+-----------------+------------------+------------------+\n",
      "\n"
     ]
    }
   ],
   "source": [
    "df_key_results.agg(\n",
    "        pyf.count('progress').alias('count'),\n",
    "        pyf.min(\"progress\").alias('min'),\n",
    "        pyf.max(\"progress\").alias('max'),\n",
    "        (pyf.max(\"progress\") - pyf.min(\"progress\")).alias(\"range\"),\n",
    "        pyf.mean(\"progress\").alias('mean'),\n",
    "        pyf.variance(\"progress\").alias('variance'),\n",
    "        pyf.stddev(\"progress\").alias('std')\n",
    "    ) \\\n",
    "    .show()"
   ]
  },
  {
   "cell_type": "markdown",
   "metadata": {},
   "source": [
    "##### Quantidade média de Resultados Chaves por colaborador"
   ]
  },
  {
   "cell_type": "code",
   "execution_count": 19,
   "metadata": {},
   "outputs": [
    {
     "name": "stdout",
     "output_type": "stream",
     "text": [
      "+-----------------+\n",
      "|       avg(count)|\n",
      "+-----------------+\n",
      "|8.073394495412844|\n",
      "+-----------------+\n",
      "\n"
     ]
    }
   ],
   "source": [
    "df_key_results.groupby('user_id') \\\n",
    "    .count() \\\n",
    "    .agg(pyf.mean('count')) \\\n",
    "    .show()"
   ]
  },
  {
   "cell_type": "markdown",
   "metadata": {},
   "source": [
    "##### Quantidade média de Resultados Chaves por Objetivo"
   ]
  },
  {
   "cell_type": "code",
   "execution_count": 20,
   "metadata": {},
   "outputs": [
    {
     "name": "stdout",
     "output_type": "stream",
     "text": [
      "+----------------+\n",
      "|      avg(count)|\n",
      "+----------------+\n",
      "|4.02745995423341|\n",
      "+----------------+\n",
      "\n"
     ]
    }
   ],
   "source": [
    "df_key_results.groupby('objective_id') \\\n",
    "    .count() \\\n",
    "    .agg(pyf.mean('count')) \\\n",
    "    .show()"
   ]
  },
  {
   "cell_type": "markdown",
   "metadata": {},
   "source": [
    "### Competências"
   ]
  },
  {
   "cell_type": "code",
   "execution_count": 21,
   "metadata": {},
   "outputs": [],
   "source": [
    "df_questions = spark.createDataFrame(\n",
    "    pd.io.excel.read_excel(VALUES_SHEET_FILE_PATH, sheet_name=QUESTIONS_SHEET_NAME)\n",
    ")\n",
    "\n",
    "df_subjects = spark.createDataFrame(\n",
    "    pd.io.excel.read_excel(VALUES_SHEET_FILE_PATH, sheet_name=SUBJECTS_SHEET_NAME)\n",
    ")\n",
    "\n",
    "df_categories = spark.createDataFrame(\n",
    "    pd.io.excel.read_excel(VALUES_SHEET_FILE_PATH, sheet_name=CATEGORIES_SHEET_NAME)\n",
    ")"
   ]
  },
  {
   "cell_type": "markdown",
   "metadata": {},
   "source": [
    "##### Questões"
   ]
  },
  {
   "cell_type": "markdown",
   "metadata": {},
   "source": [
    "##### Mostra um trecho do dataframe"
   ]
  },
  {
   "cell_type": "code",
   "execution_count": 22,
   "metadata": {},
   "outputs": [
    {
     "name": "stdout",
     "output_type": "stream",
     "text": [
      "+-------+----------------+-----------+--------+---------------+--------------------+-------------------+----------+------------+----------+\n",
      "|user_id|questionnaire_id|category_id|value_id|key_behavior_id|  key_behavior_title|              score|self_score|leader_score|peer_score|\n",
      "+-------+----------------+-----------+--------+---------------+--------------------+-------------------+----------+------------+----------+\n",
      "|     13|              33|          1|       4|             11|Compreende e Real...| 0.5999800000000001|       0.4|         0.6|       NaN|\n",
      "|     13|              33|          1|       4|             12|Planeja antes de ...| 0.5999800000000001|       0.4|         0.6|       NaN|\n",
      "|     13|              33|          1|       4|             13|Busca por soluçõe...|0.40002000000000004|       0.6|         0.4|       NaN|\n",
      "|     13|              33|          1|       5|             16|Atende com excelê...|                0.6|       0.6|         0.6|       NaN|\n",
      "|     13|              33|          1|       5|             17|Busca estar atent...|            0.79998|       0.6|         0.8|       NaN|\n",
      "|     13|              33|          1|       5|             18|Mobiliza seus par...|            0.79998|       0.6|         0.8|       NaN|\n",
      "|     13|              33|          1|       6|             20|Acompanha sistema...|0.40002000000000004|       0.6|         0.4|       NaN|\n",
      "|     13|              33|          1|       6|             21|Identifica oportu...|                0.4|       0.4|         0.4|       NaN|\n",
      "|     13|              33|          1|       6|             22|Utiliza com domín...|                0.6|       0.6|         0.6|       NaN|\n",
      "|     13|              33|          1|       6|             47|Otimiza o uso de ...|                0.4|       0.4|         0.4|       NaN|\n",
      "|     13|              33|          1|       6|             48|Realiza com disci...|            0.79998|       0.6|         0.8|       NaN|\n",
      "|     13|              33|          1|       8|             28|Tem senso de dono...|            0.79998|       0.6|         0.8|       NaN|\n",
      "|     13|              33|          1|       8|             29|Se comunica clara...|0.40002000000000004|       0.6|         0.4|       NaN|\n",
      "|     13|              33|          1|       8|             49|Assume responsabi...|                0.6|       0.6|         0.6|       NaN|\n",
      "|     13|              33|          1|       8|             50|Trabalha construt...|                0.4|       0.4|         0.4|       NaN|\n",
      "|     13|              33|          1|      12|             43|Engajado com seu ...|0.20002000000000003|       0.4|         0.2|       NaN|\n",
      "|     13|              33|          1|      12|             44|Age com segurança...|            0.79998|       0.6|         0.8|       NaN|\n",
      "|     13|              33|          1|      12|             45|Está atualizado c...|                0.4|       0.4|         0.4|       NaN|\n",
      "|     14|              33|          1|       4|             11|Compreende e Real...|0.40002000000000004|       0.6|         0.4|       NaN|\n",
      "|     14|              33|          1|       4|             12|Planeja antes de ...|0.40002000000000004|       0.6|         0.4|       NaN|\n",
      "+-------+----------------+-----------+--------+---------------+--------------------+-------------------+----------+------------+----------+\n",
      "only showing top 20 rows\n",
      "\n"
     ]
    }
   ],
   "source": [
    "df_questions.show()"
   ]
  },
  {
   "cell_type": "markdown",
   "metadata": {},
   "source": [
    "##### Descreve os dados do dataframe"
   ]
  },
  {
   "cell_type": "code",
   "execution_count": 23,
   "metadata": {},
   "outputs": [
    {
     "name": "stderr",
     "output_type": "stream",
     "text": [
      "[Stage 41:====================================>                     (5 + 3) / 8]\r"
     ]
    },
    {
     "name": "stdout",
     "output_type": "stream",
     "text": [
      "+-------+------------------+------------------+------------------+------------------+-----------------+--------------------+-------------------+----------+------------+----------+\n",
      "|summary|           user_id|  questionnaire_id|       category_id|          value_id|  key_behavior_id|  key_behavior_title|              score|self_score|leader_score|peer_score|\n",
      "+-------+------------------+------------------+------------------+------------------+-----------------+--------------------+-------------------+----------+------------+----------+\n",
      "|  count|             16140|             16140|             16140|             16140|            16140|               16140|              16140|     16140|       16140|     16140|\n",
      "|   mean| 191.4193308550186| 66.93085501858737|3.3654275092936805|17.200557620817843|68.41629491945477|                null|  0.644890246798834|       NaN|         NaN|       NaN|\n",
      "| stddev|123.07985555663619|21.662804123277095|2.3204827563362884|10.463689751156833|38.98133307494953|                null|0.19297195359771746|       NaN|         NaN|       NaN|\n",
      "|    min|                13|                33|                 1|                 4|               11|Acompanha sistema...|                0.0|       0.2|         0.2|       0.2|\n",
      "|    max|               476|                94|                10|                44|              159|É rápido, estabel...|                1.0|       NaN|         NaN|       NaN|\n",
      "+-------+------------------+------------------+------------------+------------------+-----------------+--------------------+-------------------+----------+------------+----------+\n",
      "\n"
     ]
    },
    {
     "name": "stderr",
     "output_type": "stream",
     "text": [
      "                                                                                \r"
     ]
    }
   ],
   "source": [
    "df_questions.describe().show()"
   ]
  },
  {
   "cell_type": "markdown",
   "metadata": {},
   "source": [
    "#### Quantidade de linhas no dataframe"
   ]
  },
  {
   "cell_type": "code",
   "execution_count": 24,
   "metadata": {},
   "outputs": [
    {
     "data": {
      "text/plain": [
       "16140"
      ]
     },
     "execution_count": 24,
     "metadata": {},
     "output_type": "execute_result"
    }
   ],
   "source": [
    "df_questions.count()"
   ]
  },
  {
   "cell_type": "markdown",
   "metadata": {},
   "source": [
    "#### Quantidade de questões distintas avaliadas"
   ]
  },
  {
   "cell_type": "code",
   "execution_count": 25,
   "metadata": {},
   "outputs": [
    {
     "name": "stdout",
     "output_type": "stream",
     "text": [
      "+-----+\n",
      "|count|\n",
      "+-----+\n",
      "|  111|\n",
      "+-----+\n",
      "\n"
     ]
    }
   ],
   "source": [
    "df_questions.select(pyf.countDistinct(\"key_behavior_id\").alias(\"count\")).show()"
   ]
  },
  {
   "cell_type": "code",
   "execution_count": 26,
   "metadata": {},
   "outputs": [
    {
     "name": "stdout",
     "output_type": "stream",
     "text": [
      "+---------------+--------------------+-----+-------------------+------------------+------------------+------------------+--------------------+-------------------+\n",
      "|key_behavior_id|  key_behavior_title|count|                min|               max|             range|              mean|            variance|                std|\n",
      "+---------------+--------------------+-----+-------------------+------------------+------------------+------------------+--------------------+-------------------+\n",
      "|             11|Compreende e Real...|  391|                0.0|               1.0|               1.0|0.6122764705882354| 0.03164358904494722|0.17788644986324062|\n",
      "|             12|Planeja antes de ...|  391|                0.0|               1.0|               1.0|0.6071621483375961| 0.03564042856768052| 0.1887867277317993|\n",
      "|             13|Busca por soluçõe...|  391|                0.0|               1.0|               1.0|0.5956525319693096|0.037339430598444495| 0.1932341341441633|\n",
      "|             16|Atende com excelê...|  391|                0.0|               1.0|               1.0| 0.658057084398977| 0.03797956313096464|0.19488346038328816|\n",
      "|             17|Busca estar atent...|  391|                0.0|               1.0|               1.0|0.6145793861892583| 0.03601727601808382|0.18978218045455117|\n",
      "|             18|Mobiliza seus par...|  391|                0.0|               1.0|               1.0|0.6115093094629157|0.033636283355162964|0.18340197205908929|\n",
      "|             20|Acompanha sistema...|  391|                0.0|               1.0|               1.0|0.5948852173913046| 0.03238384374501674|0.17995511591787752|\n",
      "|             21|Identifica oportu...|  391|                0.0|               1.0|               1.0|0.5647064194373405|0.031263384679967206|0.17681454883568604|\n",
      "|             22|Utiliza com domín...|  391|                0.0|               1.0|               1.0|0.6038371099744246|  0.0352922645385494| 0.1878623552991642|\n",
      "|             28|Tem senso de dono...|  391|                0.0|               1.0|               1.0|0.6590803069053707|0.037654023850161984| 0.1940464476617956|\n",
      "|             29|Se comunica clara...|  391|                0.0|               1.0|               1.0|0.5982110485933505| 0.03643229919453867| 0.1908724684037451|\n",
      "|             43|Engajado com seu ...|  391|                0.0|               1.0|               1.0|0.5667527109974425| 0.04186574249058038| 0.2046111983508732|\n",
      "|             44|Age com segurança...|  391|                0.0|               1.0|               1.0|0.6109984910485936| 0.03477567692925569| 0.1864823769937945|\n",
      "|             45|Está atualizado c...|  391|                0.0|               1.0|               1.0|0.5588245268542202|0.038940674269967876|0.19733391566065847|\n",
      "|             47|Otimiza o uso de ...|  391|                0.0|               1.0|               1.0|0.6094637340153455| 0.03357654660653419| 0.1832390422550123|\n",
      "|             48|Realiza com disci...|  391|                0.0|               1.0|               1.0|0.6401543222506393| 0.03625486029075743|0.19040709096763553|\n",
      "|             49|Assume responsabi...|  391|                0.0|               1.0|               1.0|0.6306913554987211|0.032696466475850214|0.18082164271969828|\n",
      "|             50|Trabalha construt...|  391|                0.0|               1.0|               1.0| 0.597699641943734| 0.03181492047269197|0.17836737502327035|\n",
      "|             52|Trabalha de forma...|  138|                0.2|               1.0|               0.8| 0.651299275362319| 0.02130611102136889|0.14596612970606876|\n",
      "|             53|Esta sempre em bu...|  138|                0.2|               1.0|               0.8|0.6265210144927539| 0.03335529743837935|0.18263432710851307|\n",
      "|             54|Faz o que é certo...|  138|                0.4|               1.0|               0.6|0.7168137681159422|0.025658591560880135|0.16018299398150895|\n",
      "|             55|Age de forma just...|  138|                0.4|               1.0|               0.6|0.6876065217391307|0.023991120760076156|0.15489067357357628|\n",
      "|             56|Tem  compromisso ...|  138|                0.2|               1.0|               0.8| 0.646302898550725|0.024263021013434895|0.15576591736780834|\n",
      "|             57|Fornece todo supo...|  138|                0.2|               1.0|               0.8| 0.660290579710145|0.022399098961705284| 0.1496632852830155|\n",
      "|             58|Participa do plan...|   42|0.20040000000000002|               1.0|            0.7996|0.6709666666666666|   0.039032121300813| 0.1975654861072981|\n",
      "|             59|Identifica pontos...|   42|                0.2|               1.0|               0.8| 0.688102380952381| 0.04106768023809525|0.20265162283607613|\n",
      "|             60|Garante a execuçã...|   42|                0.2|               1.0|               0.8|0.7040333333333334| 0.04139749252032521| 0.2034637376053168|\n",
      "|             61|Busca estar atent...|   42|                0.4|               1.0|               0.6|0.7076214285714286|0.027984405139372823|0.16728540025768185|\n",
      "|             62|Mobiliza Líderes ...|   42|                0.4|               1.0|               0.6|0.7928404761904763|0.033345063931475044|0.18260630857523802|\n",
      "|             63|Garante que sua g...|   42|0.40020000000000006|               1.0|0.5997999999999999|0.7288095238095238|0.028853674053426252|0.16986369256973738|\n",
      "|             64|Desdobra as metas...|   42|                0.4|               1.0|               0.6|0.7185619047619047| 0.04053096290360047|0.20132303122991285|\n",
      "|             65|Engaja o time  pa...|   42|                0.4|               1.0|               0.6|0.7147666666666666|0.032659559349593505|0.18071955995296554|\n",
      "|             66|Antevê necessidad...|   42|0.39980000000000004|               1.0|            0.6002|0.6690357142857143|0.036142710156794426|0.19011236192524258|\n",
      "|             67|Utiliza com domín...|   42|0.29990000000000006|               1.0|            0.7001| 0.778545238095238| 0.04074457083042974|0.20185284449427443|\n",
      "|             68|Tem senso de dono...|   42|                0.6|               1.0|               0.4|0.9028404761904761|0.015556621004645759|0.12472618411803417|\n",
      "|             69|Engajado com seu ...|   42|                0.2|               1.0|               0.8|0.7021309523809525| 0.04613633096980256|0.21479369397122106|\n",
      "|             70|Incentiva, promov...|   42|                0.4|               1.0|               0.6|           0.66405| 0.02755364012195123|0.16599289178139898|\n",
      "|             71|Age com segurança...|   42|                0.4|               1.0|               0.6|0.6573761904761904| 0.03515305259001163|  0.187491473379489|\n",
      "|             72|Atrai e forma tim...|   42|0.20020000000000004|               1.0|            0.7998|0.6690595238095237| 0.04413056051684089|0.21007275053381125|\n",
      "|             73|Aloca pessoas-cha...|   42|                0.2|               1.0|               0.8|0.6926309523809524| 0.03915754853077816|0.19788266354276252|\n",
      "|             74|Gerencia baixa pe...|   42|                0.2|               1.0|               0.8| 0.634997619047619| 0.04680285877468059|  0.216339683772258|\n",
      "|             75|Cria um clima pos...|   42|                0.4|               1.0|               0.6|0.7123785714285714|0.031214743188153322| 0.1766769458309525|\n",
      "|             76|Lidera em context...|   42|                0.4|               1.0|               0.6|0.7171547619047619|0.036430252293844376| 0.1908671063694433|\n",
      "|             77|Influencia positi...|   42|                0.4|               1.0|               0.6|0.6995428571428571|0.032098328850174225|0.17916006488660977|\n",
      "|             78|Administra confli...|   42|                0.4|               1.0|               0.6|0.6880976190476191|0.029362198286875734|0.17135401450469648|\n",
      "|             79|Compreende, reali...|   34|                0.0|               1.0|               1.0| 0.588243137254902|0.050758607106357705| 0.2252967090446678|\n",
      "|             80|Planeja antes de ...|   34|                0.0|               1.0|               1.0|0.5941176470588235| 0.05207587422459894|0.22820138962021888|\n",
      "|             81|Busca soluções in...|   34|                0.0|               0.8|               0.8| 0.588243137254902|0.053177197813428397|0.23060181658744233|\n",
      "|             82|Busca estar atent...|   34|                0.0|               1.0|               1.0|0.6294117647058824| 0.06334147379679143| 0.2516773207835609|\n",
      "|             83|Mobiliza sua equi...|   34|                0.0|               1.0|               1.0|0.6117843137254901| 0.06773571584076055| 0.2602608611388976|\n",
      "|             84|Garante que sua c...|   34|                0.0|               1.0|               1.0|0.6588372549019608| 0.06430641325014856|0.25358709204166635|\n",
      "|             85|Entende e desdobr...|   34|                0.0|               1.0|               1.0|0.5529470588235295|  0.0437771207486631|0.20922982757882083|\n",
      "|             86|Identifica oportu...|   34|                0.0|               1.0|               1.0|0.5705901960784314|0.058489068318478915|0.24184513292286638|\n",
      "|             87|Utiliza com domín...|   34|                0.0|               1.0|               1.0| 0.617656862745098| 0.06875839922756981|0.26221822825190816|\n",
      "|             88|Coordena as ações...|   34|                0.0|               1.0|               1.0|0.6117794117647058| 0.05319037683600714|0.23063039009637726|\n",
      "|             89|Engajado com seu ...|   34|                0.0|0.8000000000000002|0.8000000000000002|0.5588225490196078| 0.04552132678253121| 0.2133572749697821|\n",
      "|             90|Incentiva, promov...|   34|                0.0|               1.0|               1.0|0.5353009803921569|0.047806788719548424|0.21864763597978465|\n",
      "|             92|Está atualizado c...|   34|                0.0|               1.0|               1.0|0.5353088235294118| 0.05507249234402853|0.23467529129422324|\n",
      "|             93|Aloca pessoas-cha...|   34|                0.0|               1.0|               1.0|0.5764666666666667|0.050336070303030306|   0.22435701527483|\n",
      "|             94|Cria um clima pos...|   34|                0.0|               1.0|               1.0|0.6176676470588236| 0.06149658346702318|0.24798504686174766|\n",
      "|             95|Coordena em conte...|   34|                0.0|               1.0|               1.0|0.5764941176470588| 0.05761012905525846|0.24002110127082257|\n",
      "|             96|Influencia positi...|   34|                0.0|               1.0|               1.0| 0.600014705882353| 0.06302667038324422|0.25105113101367266|\n",
      "|             97|Administra confli...|   34|                0.0|               1.0|               1.0| 0.552964705882353| 0.05346853204991089| 0.2312326362127779|\n",
      "|             98|É rápido, estabel...|  408|                0.2|               1.0|               0.8|0.6992404411764703| 0.03258934796737245|0.18052520036652073|\n",
      "|             99|Lida bem com ince...|  408|                0.2|               1.0|               0.8|0.6421333333333331|0.030889069402129404|0.17575286456308303|\n",
      "|            100|Tem facilidade pa...|  408|                0.2|               1.0|               0.8|0.6894100490196076|0.026959813682552878|0.16419443864684602|\n",
      "|            101|Tem facilidade pa...|  408|                0.2|               1.0|               0.8|0.6620085784313724|0.027521754447114227|0.16589681867689393|\n",
      "|            102|Consegue resolver...|  408|                0.2|               1.0|               0.8|0.6698276960784312|0.030900909034482345|0.17578654395169827|\n",
      "|            103|Adapta comunicaçã...|  408|                0.2|               1.0|               0.8|0.6784078431372547| 0.02742929192850605| 0.1656179094437134|\n",
      "|            104|É curioso, crític...|  408|                0.2|               1.0|               0.8|0.7266914215686271| 0.02761028938568917|0.16616344178455492|\n",
      "|            105|Provoca e lidera ...|  408|                0.2|               1.0|               0.8|0.6582593137254902|0.034790387726309206|0.18652181568467857|\n",
      "|            106|Lida bem com resi...|  408|                0.2|               1.0|               0.8|0.6293622549019608| 0.02972089965288818|0.17239750477570195|\n",
      "|            107|Energiza-se diant...|  408|                0.2|               1.0|               0.8|0.7310791666666663|0.030575692759009017|0.17485906541843638|\n",
      "|            108|Lida bem com cris...|  408|                0.2|               1.0|               0.8|0.6903674019607839|0.027652488885616895|0.16629037520439027|\n",
      "|            109|Constrói times de...|  408|                0.2|               1.0|               0.8|0.6212977941176471|0.032434725031977175|0.18009643259092384|\n",
      "|            110|Solicita feedback...|  408|                0.2|               1.0|               0.8|0.6759063725490194| 0.03161114212145301|0.17779522524931035|\n",
      "|            111|Aprende com seus ...|  408|                0.2|               1.0|               0.8|0.7098034313725488| 0.02570228072529749|0.16031930864776547|\n",
      "|            112|É empático e sens...|  408|                0.2|               1.0|               0.8|0.7203438725490193|0.026784225564327708|0.16365886949483582|\n",
      "|            127|Aprende com suas ...|   20|                0.0|               1.0|               1.0|              0.65|  0.0668421052631579| 0.2585384019118976|\n",
      "|            128|Procura diferente...|   20|                0.0|               1.0|               1.0|0.7300000000000001| 0.08957894736842101|0.29929742292312006|\n",
      "|            129|Aplica seus apren...|   20|                0.0|               1.0|               1.0|0.6499999999999999| 0.08368421052631579| 0.2892822333402378|\n",
      "|            130|Solicita feedback...|   20|                0.0|               1.0|               1.0|0.5799999999999998| 0.06273684210526316|  0.250473236305325|\n",
      "|            131|Aprende com seus ...|   20|                0.0|               1.0|               1.0|              0.65| 0.07526315789473684| 0.2743413164194136|\n",
      "|            132|É empático e sens...|   20|                0.0|               1.0|               1.0|0.6699999999999999| 0.08536842105263162|0.29217874846167646|\n",
      "|            133|Compartilha infor...|   20|                0.0|               1.0|               1.0|               0.6| 0.07157894736842105|0.26754242162397546|\n",
      "|            134|Interpreta e trad...|   20|                0.0|               1.0|               1.0|              0.66| 0.07621052631578946| 0.2760625405877977|\n",
      "|            135|Em fóruns e reuni...|   20|                0.0|               1.0|               1.0|              0.59| 0.06094736842105264| 0.2468752081944492|\n",
      "|            136|Oferece ajuda esp...|   20|                0.0|               1.0|               1.0|0.6699999999999998|  0.0811578947368421|0.28488224714229227|\n",
      "|            137|Procura analisar ...|   20|                0.0|               1.0|               1.0|0.6399999999999999| 0.07410526315789474|0.27222281895148825|\n",
      "|            138|Valoriza e pratic...|   20|                0.0|               1.0|               1.0|0.6900000000000001| 0.09042105263157893|0.30070093553492466|\n",
      "|            139|Facilidade em se ...|   20|                0.0|               1.0|               1.0|              0.69| 0.07357894736842108| 0.2712543960351999|\n",
      "|            140|Lida com frustraç...|   20|                0.0|               1.0|               1.0|0.6399999999999999|0.061473684210526326|0.24793887192315434|\n",
      "|            141|Sabe lidar com co...|   20|                0.0|               1.0|               1.0|0.6499999999999999| 0.06684210526315792|0.25853840191189764|\n",
      "|            142|Atento às tendênc...|   20|                0.0|               1.0|               1.0|0.6199999999999999| 0.07957894736842105|0.28209740758897633|\n",
      "|            143|É curioso e quest...|   20|                0.0|               1.0|               1.0|0.7000000000000001| 0.08631578947368422|0.29379548919900766|\n",
      "|            144|É engajado com o ...|   20|                0.0|               1.0|               1.0|              0.66| 0.08463157894736843|0.29091507170885533|\n",
      "|            145|Propõe melhorias ...|   20|                0.0|               1.0|               1.0|0.7100000000000001| 0.07778947368421052|0.27890764364608317|\n",
      "|            146|Busca sempre agre...|   20|                0.0|               1.0|               1.0|0.6199999999999999| 0.08378947368421052| 0.2894641146743591|\n",
      "|            147|Questiona sobre a...|   20|                0.0|               1.0|               1.0|0.6100000000000001| 0.06515789473684212|0.25526044491233285|\n",
      "|            148|Influencia outros...|   20|                0.0|               1.0|               1.0|              0.59|               0.082| 0.2863564212655271|\n",
      "|            149|Transmite energia...|   20|                0.0|               1.0|               1.0|0.6599999999999999| 0.07621052631578948| 0.2760625405877977|\n",
      "|            150|Possui nível de a...|   20|                0.0|               1.0|               1.0|              0.67| 0.08115789473684211| 0.2848822471422923|\n",
      "|            151|Realiza análise d...|   20|                0.0|               1.0|               1.0|              0.67| 0.07273684210526317|0.26969768650335724|\n",
      "|            152|Executa, conforme...|   20|                0.0|               1.0|               1.0|0.6699999999999999| 0.07694736842105263| 0.2773938867766423|\n",
      "|            153|Entende o senso d...|   20|                0.0|               1.0|               1.0|0.6699999999999999| 0.07694736842105267|0.27739388677664234|\n",
      "|            154|Utiliza com domín...|   20|                0.0|               1.0|               1.0|              0.69| 0.07778947368421055| 0.2789076436460832|\n",
      "|            155|Realiza sua trilh...|   20|                0.0|               1.0|               1.0|              0.67|  0.0811578947368421|0.28488224714229227|\n",
      "|            156|Busca conhecer os...|   20|                0.0|               1.0|               1.0|0.6399999999999999| 0.06568421052631579|0.25628931020687495|\n",
      "|            157|Busca desenvolver...|   20|                0.0|               1.0|               1.0|               0.7| 0.07789473684210527| 0.2790962859697443|\n",
      "|            158|Busca ir além das...|   20|                0.0|               1.0|               1.0|0.6900000000000001| 0.07357894736842106| 0.2712543960351999|\n",
      "|            159|Otimiza o uso de ...|   20|                0.0|               1.0|               1.0|              0.67| 0.07694736842105265| 0.2773938867766423|\n",
      "+---------------+--------------------+-----+-------------------+------------------+------------------+------------------+--------------------+-------------------+\n",
      "\n"
     ]
    }
   ],
   "source": [
    "df_questions \\\n",
    "    .groupBy('key_behavior_id') \\\n",
    "    .agg(\n",
    "        pyf.first('key_behavior_title').alias('key_behavior_title'),\n",
    "        pyf.count('score').alias('count'),\n",
    "        pyf.min(\"score\").alias('min'),\n",
    "        pyf.max(\"score\").alias('max'),\n",
    "        (pyf.max(\"score\") - pyf.min(\"score\")).alias(\"range\"),\n",
    "        pyf.mean(\"score\").alias('mean'),\n",
    "        pyf.variance(\"score\").alias('variance'),\n",
    "        pyf.stddev(\"score\").alias('std')\n",
    "    ) \\\n",
    "    .show(n=999)\n"
   ]
  },
  {
   "cell_type": "markdown",
   "metadata": {},
   "source": [
    "#### Assuntos:"
   ]
  },
  {
   "cell_type": "markdown",
   "metadata": {},
   "source": [
    "##### Mostra um trecho do dataframe"
   ]
  },
  {
   "cell_type": "code",
   "execution_count": 27,
   "metadata": {},
   "outputs": [
    {
     "name": "stdout",
     "output_type": "stream",
     "text": [
      "+-------+----------------+-----------+--------+--------------------+-------------------+------------------+------------------+----------+\n",
      "|user_id|questionnaire_id|category_id|value_id|         value_title|              score|        self_score|      leader_score|peer_score|\n",
      "+-------+----------------+-----------+--------+--------------------+-------------------+------------------+------------------+----------+\n",
      "|     13|              33|          1|       4|Pensamento Estrat...| 0.5333266666666667|0.4666666666666666|0.5333333333333333|       NaN|\n",
      "|     13|              33|          1|       5|Foco no Cliente (...|            0.73332|               0.6|0.7333333333333334|       NaN|\n",
      "|     13|              33|          1|       6|Orientação para R...|               0.52|              0.52|0.5199999999999999|       NaN|\n",
      "|     13|              33|          1|       8|Liderança (Líder ...|               0.55|0.5499999999999999|              0.55|       NaN|\n",
      "|     13|              33|          1|      12|Desenvolvimento (...| 0.4666666666666666|0.4666666666666666|0.4666666666666666|       NaN|\n",
      "|     14|              33|          1|       4|Pensamento Estrat...|0.40002000000000004|               0.6|0.4000000000000001|       NaN|\n",
      "|     14|              33|          1|       5|Foco no Cliente (...| 0.7333599999999999|               1.0|0.7333333333333334|       NaN|\n",
      "|     14|              33|          1|       6|Orientação para R...|           0.480012|               0.6|              0.48|       NaN|\n",
      "|     14|              33|          1|       8|Liderança (Líder ...|            0.65002|              0.85|              0.65|       NaN|\n",
      "|     14|              33|          1|      12|Desenvolvimento (...|0.40002000000000004|               0.6|0.4000000000000001|       NaN|\n",
      "|     16|              33|          1|       4|Pensamento Estrat...| 0.6000333333333333|0.9333333333333332|               0.6|       NaN|\n",
      "|     16|              33|          1|       5|Foco no Cliente (...| 0.7333600000000001|               1.0|0.7333333333333334|       NaN|\n",
      "|     16|              33|          1|       6|Orientação para R...|           0.520024|              0.76|              0.52|       NaN|\n",
      "|     16|              33|          1|       8|Liderança (Líder ...|           0.550035|               0.9|              0.55|       NaN|\n",
      "|     16|              33|          1|      12|Desenvolvimento (...| 0.6000333333333333|0.9333333333333332|               0.6|       NaN|\n",
      "|     17|              33|          1|       4|Pensamento Estrat...|                0.6|               0.6|               0.6|       NaN|\n",
      "|     17|              33|          1|       5|Foco no Cliente (...| 0.6666866666666666|0.8666666666666667|0.6666666666666666|       NaN|\n",
      "|     17|              33|          1|       6|Orientação para R...|            0.48002|              0.68|              0.48|       NaN|\n",
      "|     17|              33|          1|       8|Liderança (Líder ...| 0.6000300000000001|               0.9|               0.6|       NaN|\n",
      "|     17|              33|          1|      12|Desenvolvimento (...| 0.5999866666666667|0.4666666666666666|               0.6|       NaN|\n",
      "+-------+----------------+-----------+--------+--------------------+-------------------+------------------+------------------+----------+\n",
      "only showing top 20 rows\n",
      "\n"
     ]
    }
   ],
   "source": [
    "df_subjects.show()"
   ]
  },
  {
   "cell_type": "markdown",
   "metadata": {},
   "source": [
    "##### Descreve os dados do dataframe"
   ]
  },
  {
   "cell_type": "code",
   "execution_count": 28,
   "metadata": {},
   "outputs": [
    {
     "name": "stdout",
     "output_type": "stream",
     "text": [
      "+-------+------------------+------------------+------------------+------------------+--------------------+-------------------+----------+------------+----------+\n",
      "|summary|           user_id|  questionnaire_id|       category_id|          value_id|         value_title|              score|self_score|leader_score|peer_score|\n",
      "+-------+------------------+------------------+------------------+------------------+--------------------+-------------------+----------+------------+----------+\n",
      "|  count|              5423|              5423|              5423|              5423|                5423|               5423|      5423|        5423|      5423|\n",
      "|   mean| 183.7106767471879| 64.71491794209847|3.5620505255393695|17.238982113221464|                null| 0.6488640842063091|       NaN|         NaN|       NaN|\n",
      "| stddev|120.70551475891996|21.785291024958564|2.1984229449500994|10.256865872435487|                null|0.16903376451114444|       NaN|         NaN|       NaN|\n",
      "|    min|                13|                33|                 1|                 4|Agilidade Emocion...|                0.0|       0.2|         0.2|       0.4|\n",
      "|    max|               476|                94|                10|                44|Valor - Transparê...|                1.0|       NaN|         NaN|       NaN|\n",
      "+-------+------------------+------------------+------------------+------------------+--------------------+-------------------+----------+------------+----------+\n",
      "\n"
     ]
    }
   ],
   "source": [
    "df_subjects.describe().show()"
   ]
  },
  {
   "cell_type": "markdown",
   "metadata": {},
   "source": [
    "##### Quantidade de linhas no dataframe"
   ]
  },
  {
   "cell_type": "code",
   "execution_count": 29,
   "metadata": {},
   "outputs": [
    {
     "data": {
      "text/plain": [
       "5423"
      ]
     },
     "execution_count": 29,
     "metadata": {},
     "output_type": "execute_result"
    }
   ],
   "source": [
    "df_subjects.count()"
   ]
  },
  {
   "cell_type": "markdown",
   "metadata": {},
   "source": [
    "##### Quantidade de assuntos avaliados"
   ]
  },
  {
   "cell_type": "code",
   "execution_count": 30,
   "metadata": {},
   "outputs": [
    {
     "name": "stdout",
     "output_type": "stream",
     "text": [
      "+-----+\n",
      "|count|\n",
      "+-----+\n",
      "|   37|\n",
      "+-----+\n",
      "\n"
     ]
    }
   ],
   "source": [
    "df_subjects.select(pyf.countDistinct(\"value_id\").alias(\"count\")).show()"
   ]
  },
  {
   "cell_type": "markdown",
   "metadata": {},
   "source": [
    "##### Estatísticas básicas de cada assunto baseado na nota final"
   ]
  },
  {
   "cell_type": "code",
   "execution_count": 31,
   "metadata": {},
   "outputs": [
    {
     "name": "stdout",
     "output_type": "stream",
     "text": [
      "+--------+---------------------------------------------+-----+-------------------+------------------+------------------+------------------+--------------------+-------------------+\n",
      "|value_id|value_title                                  |count|min                |max               |range             |mean              |variance            |std                |\n",
      "+--------+---------------------------------------------+-----+-------------------+------------------+------------------+------------------+--------------------+-------------------+\n",
      "|4       |Pensamento Estratégico (Líder de Si)         |391  |0.0                |1.0               |1.0               |0.6050303836317137|0.028547026969396615|0.16895865461525378|\n",
      "|5       |Foco no Cliente (Líder de Si)                |391  |0.0                |1.0               |1.0               |0.6280485933503838|0.02967553726021002 |0.17226589116888466|\n",
      "|6       |Orientação para Resultados (Líder de Si)     |391  |0.0                |0.96              |0.96              |0.6026093606138109|0.025257598012626035|0.1589263918064776 |\n",
      "|7       |Valor - Competência                          |138  |0.2                |1.0               |0.8               |0.651299275362319 |0.021306111021368885|0.14596612970606876|\n",
      "|8       |Liderança (Líder de Si)                      |391  |0.0                |1.0               |1.0               |0.6214205882352942|0.02795811140029413 |0.16720679232702879|\n",
      "|9       |Valor - Autodesenvolvimento                  |138  |0.2                |1.0               |0.8               |0.6265210144927538|0.033355297438379346|0.18263432710851304|\n",
      "|10      |Valor - Honestidade                          |138  |0.4                |1.0               |0.6               |0.7168137681159422|0.025658591560880146|0.16018299398150898|\n",
      "|11      |Valor - Respeito                             |138  |0.4                |1.0               |0.6               |0.6876065217391306|0.02399112076007618 |0.15489067357357633|\n",
      "|12      |Desenvolvimento (Líder de Si)                |391  |0.0                |1.0               |1.0               |0.5788585763000854|0.03136921955115876 |0.17711357811065406|\n",
      "|13      |Valor - Pontualidade                         |138  |0.2                |1.0               |0.8               |0.6463028985507249|0.02426302101343489 |0.15576591736780832|\n",
      "|14      |Valor - Transparência                        |138  |0.2                |1.0               |0.8               |0.660290579710145 |0.02239909896170528 |0.14966328528301548|\n",
      "|15      |Pensamento Estratégico (Líder de Líderes)    |42   |0.33360000000000006|1.0               |0.6663999999999999|0.6877007936507936|0.028210300893663696|0.16795922390170687|\n",
      "|16      |Foco no Cliente (Líder de Líderes)           |42   |0.40020000000000006|1.0               |0.5997999999999999|0.7430904761904761|0.01908248077429346 |0.13813935273590022|\n",
      "|17      |Orientação para Resultados (Líder de Líderes)|42   |0.4800000000000001 |1.0               |0.5199999999999999|0.7567499999999999|0.014245709117073173|0.11935538997914243|\n",
      "|18      |Desenvolvimento (Líder de Líderes)           |42   |0.4000000000000001 |1.0               |0.5999999999999999|0.6745190476190476|0.02065949447928765 |0.14373411035411063|\n",
      "|19      |Liderança (Líder de Líderes)                 |42   |0.45714285714285713|1.0               |0.5428571428571429|0.6876945578231292|0.0220014597705563  |0.14832889054582826|\n",
      "|20      |Pensamento Estratégico (Líder de Outros)     |34   |0.0                |0.8666666666666667|0.8666666666666667|0.5902013071895424|0.043125416982900906|0.20766660054736993|\n",
      "|21      |Foco no Cliente (Líder de Outros)            |34   |0.0                |1.0               |1.0               |0.6333444444444445|0.05851551728395062 |0.241899808358648  |\n",
      "|22      |Orientação para Resultados (Líder de Outros) |34   |0.0                |1.0               |1.0               |0.5882433823529413|0.04591343429200089 |0.21427420351503093|\n",
      "|23      |Desenvolvimento (Líder de Outros)            |34   |0.0                |0.8666666666666667|0.8666666666666667|0.5431441176470588|0.04286191506535948 |0.2070311934597284 |\n",
      "|24      |Liderança (Líder de  Outros)                 |34   |0.0                |1.0               |1.0               |0.584721568627451 |0.04984305501699347 |0.22325558227509895|\n",
      "|25      |Agilidade Mental                             |408  |0.20000000000000004|1.0               |0.7999999999999999|0.6769279411764706|0.022410691071044327|0.14970200757185698|\n",
      "|26      |Agilidade com Pessoas                        |408  |0.20000000000000004|1.0               |0.7999999999999999|0.6700813725490196|0.02156324978047566 |0.14684430455579697|\n",
      "|27      |Agilidade com Mudanças                       |408  |0.20000000000000004|1.0               |0.7999999999999999|0.6714376633986928|0.02191011647315096 |0.14802066231830932|\n",
      "|28      |Agilidade com Resultados                     |408  |0.20000000000000004|1.0               |0.7999999999999999|0.6809147875816993|0.020091349076449442|0.14174395604910087|\n",
      "|29      |Autoconhecimento                             |408  |0.20000000000000004|1.0               |0.7999999999999999|0.7020178921568626|0.018452063350937846|0.13583837215948166|\n",
      "|34      |Aprender a Aprender (GT)                     |20   |0.0                |1.0               |1.0               |0.6766666666666666|0.07404678362573099 |0.27211538660232165|\n",
      "|35      |Autoconhecimento (GT)                        |20   |0.0                |1.0               |1.0               |0.6333333333333333|0.06760233918128655 |0.2600044983866367 |\n",
      "|36      |Comunicação Assertiva (GT)                   |20   |0.0                |1.0               |1.0               |0.6166666666666667|0.06543859649122807 |0.2558096880323888 |\n",
      "|37      |Comunicação Empática (GT)                    |20   |0.0                |1.0               |1.0               |0.6666666666666666|0.0743859649122807  |0.2727379051622284 |\n",
      "|38      |Agilidade Emocional (GT)                     |20   |0.0                |1.0               |1.0               |0.6599999999999999|0.06498245614035089 |0.25491656701821264|\n",
      "|39      |Lifelong Learning (GT)                       |20   |0.0                |1.0               |1.0               |0.66              |0.0776140350877193  |0.27859295591905997|\n",
      "|40      |Atuação Prática (GT)                         |20   |0.0                |1.0               |1.0               |0.6466666666666667|0.06741520467836257 |0.2596443811800336 |\n",
      "|41      |Autoconfiança (GT)                           |20   |0.0                |1.0               |1.0               |0.6399999999999999|0.07270175438596489 |0.26963262856331927|\n",
      "|42      |Pensamento Analítico (GT)                    |20   |0.0                |1.0               |1.0               |0.6699999999999999|0.0708654970760234  |0.26620574200423136|\n",
      "|43      |Comprometimento (GT)                         |20   |0.0                |1.0               |1.0               |0.6666666666666666|0.07017543859649127 |0.2649064714130088 |\n",
      "|44      |Orientação para Resultados (GT)              |20   |0.0                |1.0               |1.0               |0.6866666666666668|0.072093567251462   |0.2685024529710334 |\n",
      "+--------+---------------------------------------------+-----+-------------------+------------------+------------------+------------------+--------------------+-------------------+\n",
      "\n"
     ]
    }
   ],
   "source": [
    "df_subjects \\\n",
    "    .groupBy('value_id') \\\n",
    "    .agg(\n",
    "        pyf.first('value_title').alias('value_title'),\n",
    "        pyf.count('score').alias('count'),\n",
    "        pyf.min(\"score\").alias('min'),\n",
    "        pyf.max(\"score\").alias('max'),\n",
    "        (pyf.max(\"score\") - pyf.min(\"score\")).alias(\"range\"),\n",
    "        pyf.mean(\"score\").alias('mean'),\n",
    "        pyf.variance(\"score\").alias('variance'),\n",
    "        pyf.stddev(\"score\").alias('std')\n",
    "    ) \\\n",
    "    .show(n=999, truncate=False)\n"
   ]
  },
  {
   "cell_type": "markdown",
   "metadata": {},
   "source": [
    "#### Categorias"
   ]
  },
  {
   "cell_type": "markdown",
   "metadata": {},
   "source": [
    "##### Mostra um trecho do dataframe"
   ]
  },
  {
   "cell_type": "code",
   "execution_count": 32,
   "metadata": {},
   "outputs": [
    {
     "name": "stdout",
     "output_type": "stream",
     "text": [
      "+-------+----------------+-----------+--------------+-------------------+-------------------+-------------------+----------+\n",
      "|user_id|questionnaire_id|category_id|category_title|              score|         self_score|       leader_score|peer_score|\n",
      "+-------+----------------+-----------+--------------+-------------------+-------------------+-------------------+----------+\n",
      "|     13|              33|          1|   Lider de Si| 0.5606626666666668| 0.5206666666666667| 0.5606666666666668|       NaN|\n",
      "|     14|              33|          1|   Lider de Si|          0.5326864| 0.7300000000000001| 0.5326666666666667|       NaN|\n",
      "|     16|              33|          1|   Lider de Si| 0.6006971333333333| 0.9053333333333333| 0.6006666666666667|       NaN|\n",
      "|     17|              33|          1|   Lider de Si| 0.5893446666666666| 0.7026666666666668| 0.5893333333333334|       NaN|\n",
      "|     21|              33|          1|   Lider de Si| 0.6133506666666666| 0.7866666666666666| 0.6133333333333333|       NaN|\n",
      "|     24|              33|          1|   Lider de Si| 0.5766716666666667| 0.6266666666666667| 0.5766666666666667|       NaN|\n",
      "|     27|              33|          1|   Lider de Si|          0.5833286|              0.536| 0.5833333333333333|       NaN|\n",
      "|     29|              33|          1|   Lider de Si|          0.5799896|              0.476|               0.58|       NaN|\n",
      "|     36|              33|          1|   Lider de Si|0.44869286666666663| 0.7106666666666667| 0.4486666666666667|       NaN|\n",
      "|     39|              33|          1|   Lider de Si| 0.4293447333333334| 0.5433333333333332| 0.4293333333333334|       NaN|\n",
      "|     40|              33|          1|   Lider de Si| 0.5306795333333334| 0.6593333333333333| 0.5306666666666666|       NaN|\n",
      "|     42|              33|          1|   Lider de Si|           0.619998|                0.6|               0.62|       NaN|\n",
      "|     49|              33|          1|   Lider de Si| 0.5019958000000001|0.45999999999999996|              0.502|       NaN|\n",
      "|     67|              33|          1|   Lider de Si|0.48134326666666666| 0.5806666666666667|0.48133333333333334|       NaN|\n",
      "|     68|              33|          1|   Lider de Si| 0.6020084666666667| 0.6866666666666668|              0.602|       NaN|\n",
      "|     70|              33|          1|   Lider de Si| 0.5840097333333334| 0.6813333333333333| 0.5840000000000001|       NaN|\n",
      "|     83|              33|          1|   Lider de Si| 0.5919973333333334| 0.5653333333333334| 0.5920000000000001|       NaN|\n",
      "|     87|              33|          1|   Lider de Si| 0.5493332666666666| 0.5486666666666666| 0.5493333333333333|       NaN|\n",
      "|     90|              33|          1|   Lider de Si|          0.5953438|                0.7| 0.5953333333333333|       NaN|\n",
      "|     99|              33|          1|   Lider de Si|          0.7919772| 0.5640000000000001|              0.792|       NaN|\n",
      "+-------+----------------+-----------+--------------+-------------------+-------------------+-------------------+----------+\n",
      "only showing top 20 rows\n",
      "\n"
     ]
    }
   ],
   "source": [
    "df_categories.show()"
   ]
  },
  {
   "cell_type": "markdown",
   "metadata": {},
   "source": [
    "##### Descreve os dados do dataframe"
   ]
  },
  {
   "cell_type": "code",
   "execution_count": 33,
   "metadata": {},
   "outputs": [
    {
     "name": "stdout",
     "output_type": "stream",
     "text": [
      "+-------+------------------+------------------+------------------+------------------+-------------------+----------+-------------------+------------------+\n",
      "|summary|           user_id|  questionnaire_id|       category_id|    category_title|              score|self_score|       leader_score|        peer_score|\n",
      "+-------+------------------+------------------+------------------+------------------+-------------------+----------+-------------------+------------------+\n",
      "|  count|              1053|              1053|              1053|              1053|               1053|      1053|               1053|              1053|\n",
      "|   mean|185.05982905982907| 65.18328584995251|  3.52991452991453|              null| 0.6484334854459669|       NaN|                NaN|               NaN|\n",
      "| stddev|121.33412855285927|21.799414515609016|2.2053141168333936|              null|0.15143183585929476|       NaN|                NaN|               NaN|\n",
      "|    min|                13|                33|                 1|Gamers Hard Skills|                0.0|       0.2|0.20000000000000004|0.5344761904761904|\n",
      "|    max|               476|                94|                10|           Valores|                1.0|       NaN|                NaN|               NaN|\n",
      "+-------+------------------+------------------+------------------+------------------+-------------------+----------+-------------------+------------------+\n",
      "\n"
     ]
    }
   ],
   "source": [
    "df_categories.describe().show()"
   ]
  },
  {
   "cell_type": "markdown",
   "metadata": {},
   "source": [
    "##### Quantidade de linhas no dataframe de categorias"
   ]
  },
  {
   "cell_type": "code",
   "execution_count": 34,
   "metadata": {},
   "outputs": [
    {
     "data": {
      "text/plain": [
       "1053"
      ]
     },
     "execution_count": 34,
     "metadata": {},
     "output_type": "execute_result"
    }
   ],
   "source": [
    "df_categories.count()"
   ]
  },
  {
   "cell_type": "markdown",
   "metadata": {},
   "source": [
    "##### Quantidade de categorias"
   ]
  },
  {
   "cell_type": "code",
   "execution_count": 35,
   "metadata": {},
   "outputs": [
    {
     "name": "stdout",
     "output_type": "stream",
     "text": [
      "+-----+\n",
      "|count|\n",
      "+-----+\n",
      "|    7|\n",
      "+-----+\n",
      "\n"
     ]
    }
   ],
   "source": [
    "df_categories.select(pyf.countDistinct(\"category_id\").alias(\"count\")).show()"
   ]
  },
  {
   "cell_type": "markdown",
   "metadata": {},
   "source": [
    "##### Estatísticas básicas de cada categoria baseada na nota final"
   ]
  },
  {
   "cell_type": "code",
   "execution_count": 36,
   "metadata": {},
   "outputs": [
    {
     "name": "stdout",
     "output_type": "stream",
     "text": [
      "+-----------+------------------+-----+-------------------+------------------+------------------+------------------+--------------------+-------------------+\n",
      "|category_id|    category_title|count|                min|               max|             range|              mean|            variance|                std|\n",
      "+-----------+------------------+-----+-------------------+------------------+------------------+------------------+--------------------+-------------------+\n",
      "|          1|       Lider de Si|  391|                0.0|             0.984|             0.984|0.6071935004262574| 0.02530138228851179|0.15906408233322755|\n",
      "|          3|   Líder de Outros|   34|                0.0|0.9466666666666667|0.9466666666666667|0.5879309640522876| 0.04407267734000353|0.20993493596827453|\n",
      "|          4|           Valores|  138|0.26666666666666666|               1.0|0.7333333333333334|0.6648056763285024|0.015661146636238348| 0.1251445030204617|\n",
      "|          5|  Learning Agility|  408|0.20000000000000004|0.9733333333333334|0.7733333333333333|0.6802759313725489|0.015175578628778245|0.12318919850692367|\n",
      "|          6|  Líder de Líderes|   42| 0.4940952380952381|0.9733333333333333|0.4792380952380952|0.7099509750566894|0.012299655895504805|0.11090381371037158|\n",
      "|          9|Gamers Soft Skills|   20|                0.0|0.9666666666666667|0.9666666666666667|0.6522222222222223| 0.06760363872644573|0.26000699745669487|\n",
      "|         10|Gamers Hard Skills|   20|                0.0|0.9866666666666667|0.9866666666666667|0.6620000000000001| 0.06780397660818716| 0.2603919672497352|\n",
      "+-----------+------------------+-----+-------------------+------------------+------------------+------------------+--------------------+-------------------+\n",
      "\n"
     ]
    }
   ],
   "source": [
    "df_categories \\\n",
    "    .groupBy('category_id') \\\n",
    "    .agg(\n",
    "        pyf.first('category_title').alias('category_title'),\n",
    "        pyf.count('score').alias('count'),\n",
    "        pyf.min(\"score\").alias('min'),\n",
    "        pyf.max(\"score\").alias('max'),\n",
    "        (pyf.max(\"score\") - pyf.min(\"score\")).alias(\"range\"),\n",
    "        pyf.mean(\"score\").alias('mean'),\n",
    "        pyf.variance(\"score\").alias('variance'),\n",
    "        pyf.stddev(\"score\").alias('std')\n",
    "    ) \\\n",
    "    .show(n=999)"
   ]
  },
  {
   "cell_type": "markdown",
   "metadata": {},
   "source": [
    "##### Quantidade de assuntos por categoria"
   ]
  },
  {
   "cell_type": "code",
   "execution_count": 37,
   "metadata": {},
   "outputs": [
    {
     "name": "stderr",
     "output_type": "stream",
     "text": [
      "[Stage 92:>                                                         (0 + 1) / 1]\r"
     ]
    },
    {
     "name": "stdout",
     "output_type": "stream",
     "text": [
      "+-----------+------------------+--------------+\n",
      "|category_id|    category_title|subjects_count|\n",
      "+-----------+------------------+--------------+\n",
      "|          1|       Lider de Si|             5|\n",
      "|          3|   Líder de Outros|             5|\n",
      "|          4|           Valores|             6|\n",
      "|          5|  Learning Agility|             5|\n",
      "|          6|  Líder de Líderes|             5|\n",
      "|          9|Gamers Soft Skills|             6|\n",
      "|         10|Gamers Hard Skills|             5|\n",
      "+-----------+------------------+--------------+\n",
      "\n"
     ]
    },
    {
     "name": "stderr",
     "output_type": "stream",
     "text": [
      "                                                                                \r"
     ]
    }
   ],
   "source": [
    "df_subjects.alias('subjects').join(\n",
    "        df_categories.alias('categories'), \n",
    "        df_subjects.category_id == df_categories.category_id, \n",
    "        \"inner\"\n",
    "    ) \\\n",
    "    .groupBy('subjects.category_id') \\\n",
    "    .agg(\n",
    "        pyf.first('categories.category_title').alias('category_title'),\n",
    "        pyf.countDistinct('subjects.value_id').alias('subjects_count'),\n",
    "    ) \\\n",
    "    .show()"
   ]
  },
  {
   "cell_type": "markdown",
   "metadata": {},
   "source": [
    "#### OKR + Competências = Competências Coletivas"
   ]
  },
  {
   "cell_type": "markdown",
   "metadata": {},
   "source": [
    "##### Criando o indicador de desempenho das competências dos colaboradores de cada objetivo"
   ]
  },
  {
   "cell_type": "code",
   "execution_count": 38,
   "metadata": {},
   "outputs": [
    {
     "data": {
      "text/plain": [
       "'Objetivos com colaboradores sem desempenho nas competências: 101'"
      ]
     },
     "metadata": {},
     "output_type": "display_data"
    },
    {
     "name": "stdout",
     "output_type": "stream",
     "text": [
      "+------------+------------------+------------------+\n",
      "|objective_id|  competencies_avg|objective_progress|\n",
      "+------------+------------------+------------------+\n",
      "|          18|              null|               1.0|\n",
      "|          20|0.6971911904761906|               0.5|\n",
      "|          29|0.7110906185897437|0.5459541666666666|\n",
      "|          63|0.6280078205128206|0.4433333333333334|\n",
      "|          67|              null|           0.98125|\n",
      "|          68|0.6971911904761906|0.5114026088682598|\n",
      "|          82| 0.601024641025641|               0.0|\n",
      "|         104|              null|0.7526777777777778|\n",
      "|         118|              null|0.3182834495011613|\n",
      "|         125|0.7385704945054946|0.9444444444444445|\n",
      "|         134|0.5858951762820512|               0.0|\n",
      "|         136|              null|0.7777777777777778|\n",
      "|         140|              null|0.7928571428571428|\n",
      "|         152|              null|0.5080421052631579|\n",
      "|         155|              null|0.8448914470202181|\n",
      "|         156|              null|0.6257142857142858|\n",
      "|         165|              null|0.4326394717948718|\n",
      "|         166|0.6280078205128206|0.6024074074074074|\n",
      "|         171|0.7094559455782316|0.6157407407407407|\n",
      "|         172|0.7399184226190477| 0.605791533526335|\n",
      "+------------+------------------+------------------+\n",
      "only showing top 20 rows\n",
      "\n"
     ]
    }
   ],
   "source": [
    "data = []\n",
    "objectives_without_competencies_performance = 0\n",
    "\n",
    "objectives = df_objectives.rdd \\\n",
    "    .map(lambda ob: (ob.id, ob.user_id, ob.progress)) \\\n",
    "    .distinct() \\\n",
    "    .collect()\n",
    "\n",
    "\n",
    "for objective_id, owner_id, objective_progress in objectives:\n",
    "    related_users = [owner_id]\n",
    "\n",
    "    objective_key_results_users_ids = df_key_results \\\n",
    "        .filter(\"objective_id == {}\".format(objective_id)) \\\n",
    "        .rdd.map(lambda kr: kr.user_id) \\\n",
    "        .distinct() \\\n",
    "        .collect()\n",
    "\n",
    "    related_users.extend(objective_key_results_users_ids)\n",
    "\n",
    "    objective_related_users_subjects_avg = df_subjects \\\n",
    "        .filter(pyf.col('user_id').isin(related_users)) \\\n",
    "        .agg(pyf.avg(pyf.col(\"score\"))) \\\n",
    "        .first()[0]\n",
    "\n",
    "    row_data = (objective_id, objective_related_users_subjects_avg,\n",
    "                objective_progress)\n",
    "\n",
    "    if objective_related_users_subjects_avg is None or math.isnan(objective_related_users_subjects_avg):\n",
    "        objectives_without_competencies_performance += 1 \n",
    "\n",
    "    data.append(row_data)\n",
    "\n",
    "df_objectives_performances = spark.createDataFrame(\n",
    "    data=data,\n",
    "    schema=pyt.StructType([\n",
    "        pyt.StructField(\"objective_id\", pyt.StringType(), True),\n",
    "        pyt.StructField(\"competencies_avg\", pyt.DoubleType(), True),\n",
    "        pyt.StructField(\"objective_progress\", pyt.DoubleType(), True),\n",
    "    ])\n",
    ")\n",
    "\n",
    "\n",
    "display(\"Objetivos com colaboradores sem desempenho nas competências: {}\".format(objectives_without_competencies_performance))\n",
    "\n",
    "df_objectives_performances.show()"
   ]
  },
  {
   "cell_type": "markdown",
   "metadata": {},
   "source": [
    "##### Dataframe ordenado pelos valores numéricos"
   ]
  },
  {
   "cell_type": "code",
   "execution_count": 39,
   "metadata": {},
   "outputs": [
    {
     "name": "stdout",
     "output_type": "stream",
     "text": [
      "+------------+------------------+------------------+\n",
      "|objective_id|  competencies_avg|objective_progress|\n",
      "+------------+------------------+------------------+\n",
      "|         824|0.9757575757575758|               0.0|\n",
      "|         516|0.9447619047619047|0.5555761455279522|\n",
      "|         681|0.9447619047619047|              0.05|\n",
      "|         866|0.8840000000000001|               1.0|\n",
      "|         793|0.8840000000000001|               1.0|\n",
      "|         584|0.8840000000000001|               1.0|\n",
      "|         719|0.8840000000000001|               0.5|\n",
      "|         871|0.8545454545454546|               1.0|\n",
      "|         582|0.8545454545454546|               1.0|\n",
      "|         869|0.8545454545454546|0.8000399999999999|\n",
      "|         720|0.8545454545454546|              0.75|\n",
      "|         803|0.8545454545454546|           0.66675|\n",
      "|         805|0.8545454545454546|               0.5|\n",
      "|         799|0.8545454545454546|            2.0E-4|\n",
      "|         807|0.8399999999999999|               0.0|\n",
      "|         606|0.8060606060606063|               0.0|\n",
      "|         533|0.7946759259259258|               1.0|\n",
      "|         529|0.7946759259259258|              0.75|\n",
      "|         859|0.7946759259259258|               0.0|\n",
      "|         531|0.7946759259259258|               0.0|\n",
      "+------------+------------------+------------------+\n",
      "only showing top 20 rows\n",
      "\n"
     ]
    }
   ],
   "source": [
    "df_objectives_performances.orderBy(pyf.col('competencies_avg').desc(), pyf.col('objective_progress').desc()).show()"
   ]
  },
  {
   "cell_type": "markdown",
   "metadata": {},
   "source": [
    "##### Verificando a correlação entre o progresso do objetivo com o indicador de desempenho das competências através do coeficiente de correlação de Pearson"
   ]
  },
  {
   "cell_type": "code",
   "execution_count": 40,
   "metadata": {},
   "outputs": [
    {
     "data": {
      "text/plain": [
       "0.1285710631178081"
      ]
     },
     "execution_count": 40,
     "metadata": {},
     "output_type": "execute_result"
    }
   ],
   "source": [
    "df_objectives_performances.corr('objective_progress', 'competencies_avg')"
   ]
  },
  {
   "cell_type": "markdown",
   "metadata": {},
   "source": [
    "#####  Convertendo dataframe para o Pandas"
   ]
  },
  {
   "cell_type": "code",
   "execution_count": 41,
   "metadata": {},
   "outputs": [],
   "source": [
    "df_pandas_objectives_performances = df_objectives_performances.toPandas()"
   ]
  },
  {
   "cell_type": "code",
   "execution_count": 42,
   "metadata": {},
   "outputs": [
    {
     "data": {
      "text/plain": [
       "<AxesSubplot:xlabel='competencies_avg', ylabel='Count'>"
      ]
     },
     "execution_count": 42,
     "metadata": {},
     "output_type": "execute_result"
    },
    {
     "data": {
      "image/png": "[encoded data removed]",
      "text/plain": [
       "<Figure size 1080x720 with 1 Axes>"
      ]
     },
     "metadata": {
      "needs_background": "light"
     },
     "output_type": "display_data"
    }
   ],
   "source": [
    "plt.figure(figsize=(15,10))\n",
    "sns.histplot(data=df_pandas_objectives_performances, x=\"competencies_avg\", kde=True)"
   ]
  },
  {
   "cell_type": "code",
   "execution_count": 43,
   "metadata": {},
   "outputs": [
    {
     "data": {
      "text/plain": [
       "<AxesSubplot:xlabel='competencies_avg', ylabel='objective_progress'>"
      ]
     },
     "execution_count": 43,
     "metadata": {},
     "output_type": "execute_result"
    },
    {
     "data": {
      "image/png": "[encoded data removed]",
      "text/plain": [
       "<Figure size 1080x720 with 1 Axes>"
      ]
     },
     "metadata": {
      "needs_background": "light"
     },
     "output_type": "display_data"
    }
   ],
   "source": [
    "plt.figure(figsize=(15,10))\n",
    "sns.scatterplot(data=df_pandas_objectives_performances, x=\"competencies_avg\", y=\"objective_progress\")"
   ]
  },
  {
   "cell_type": "markdown",
   "metadata": {},
   "source": [
    "##### Criando dataframe com os indicadores de desempenho de cada categoria dos objetivos"
   ]
  },
  {
   "cell_type": "code",
   "execution_count": 44,
   "metadata": {},
   "outputs": [],
   "source": [
    "objectives = df_objectives.rdd \\\n",
    "    .map(lambda ob: (ob.id, ob.user_id, ob.progress)) \\\n",
    "    .distinct() \\\n",
    "    .collect()\n",
    "\n",
    "categories = df_categories.rdd \\\n",
    "    .map(lambda c: (c.category_id, c.category_title)) \\\n",
    "    .distinct() \\\n",
    "    .collect()\n",
    "\n",
    "\n",
    "data = []\n",
    "\n",
    "\n",
    "def get_objective_related_users(objective_id, owner_id):\n",
    "    related_users = [owner_id]\n",
    "\n",
    "    objective_key_results_users_ids = df_key_results \\\n",
    "        .filter(\"objective_id == {}\".format(objective_id)) \\\n",
    "        .rdd.map(lambda kr: kr.user_id) \\\n",
    "        .distinct() \\\n",
    "        .collect()\n",
    "\n",
    "    related_users.extend(objective_key_results_users_ids)\n",
    "\n",
    "    return related_users\n",
    "\n",
    "\n",
    "for objective_id, owner_id, progress in objectives:\n",
    "    related_users = get_objective_related_users(objective_id, owner_id)\n",
    "\n",
    "    row_data = {\n",
    "        'objective_id': objective_id,\n",
    "        'progress': progress,\n",
    "    }\n",
    "\n",
    "    for category_id, category_title in categories:\n",
    "        category_final_score_avg = df_categories \\\n",
    "            .filter(\n",
    "                (pyf.col('user_id').isin(related_users)) & (pyf.col('category_id') == category_id)\n",
    "            ) \\\n",
    "            .agg(pyf.avg(pyf.col(\"score\"))) \\\n",
    "            .first()[0]\n",
    "\n",
    "        row_data[category_title] = category_final_score_avg\n",
    "\n",
    "    data.append(row_data)"
   ]
  },
  {
   "cell_type": "markdown",
   "metadata": {},
   "source": [
    "##### Mostrando trecho do dataframe"
   ]
  },
  {
   "cell_type": "code",
   "execution_count": 45,
   "metadata": {},
   "outputs": [
    {
     "name": "stdout",
     "output_type": "stream",
     "text": [
      "+------------+------------------+------------------+------------------+------------------+------------------+------------------+------------------+------------------+\n",
      "|objective_id|          progress|  Líder de Líderes|Gamers Soft Skills|       Lider de Si|Gamers Hard Skills|   Líder de Outros|  Learning Agility|           Valores|\n",
      "+------------+------------------+------------------+------------------+------------------+------------------+------------------+------------------+------------------+\n",
      "|          18|               1.0|               NaN|               NaN|               NaN|               NaN|               NaN|               NaN|               NaN|\n",
      "|          20|               0.5| 0.670263761904762|               NaN|               NaN|               NaN|               NaN|0.6794783333333333|0.7715916666666667|\n",
      "|          29|0.5459541666666666|               NaN|               NaN|0.6938356083333334|               NaN|               NaN|              0.74|0.6916666666666667|\n",
      "|          63|0.4433333333333334|               NaN|               NaN|0.6023333333333334|               NaN|0.5566406666666668|0.6533333333333333|0.6666666666666666|\n",
      "|          67|           0.98125|               NaN|               NaN|               NaN|               NaN|               NaN|               NaN|               NaN|\n",
      "|          68|0.5114026088682598| 0.670263761904762|               NaN|               NaN|               NaN|               NaN|0.6794783333333333|0.7715916666666667|\n",
      "|          82|               0.0|               NaN|               NaN|0.5926640666666667|               NaN|               NaN|0.6399999999999999|              0.55|\n",
      "|         104|0.7526777777777778|               NaN|               NaN|               NaN|               NaN|               NaN|               NaN|               NaN|\n",
      "|         118|0.3182834495011613|               NaN|               NaN|               NaN|               NaN|               NaN|               NaN|               NaN|\n",
      "|         125|0.9444444444444445|0.7001904761904761|               NaN|               NaN|               NaN|0.6914253333333334|0.8066666666666666|               0.7|\n",
      "|         134|               0.0|               NaN|               NaN|0.5655563888888889|               NaN|0.5566406666666668|               0.6|               0.6|\n",
      "|         136|0.7777777777777778|               NaN|               NaN|               NaN|               NaN|               NaN|               NaN|               NaN|\n",
      "|         140|0.7928571428571428|               NaN|               NaN|               NaN|               NaN|               NaN|               NaN|               NaN|\n",
      "|         152|0.5080421052631579|               NaN|               NaN|               NaN|               NaN|               NaN|               NaN|               NaN|\n",
      "|         155|0.8448914470202181|               NaN|               NaN|               NaN|               NaN|               NaN|               NaN|               NaN|\n",
      "|         156|0.6257142857142858|               NaN|               NaN|               NaN|               NaN|               NaN|               NaN|               NaN|\n",
      "|         165|0.4326394717948718|               NaN|               NaN|               NaN|               NaN|               NaN|               NaN|               NaN|\n",
      "|         166|0.6024074074074074|               NaN|               NaN|0.6023333333333334|               NaN|0.5566406666666668|0.6533333333333333|0.6666666666666666|\n",
      "|         171|0.6157407407407407|0.6695601904761905|               NaN|0.6642896761904762|               NaN|0.6871666666666667|0.7222222222222223|0.7555555555555555|\n",
      "|         172| 0.605791533526335|0.7037189523809524|               NaN|               NaN|               NaN|               NaN|0.7640199999999999|              0.75|\n",
      "+------------+------------------+------------------+------------------+------------------+------------------+------------------+------------------+------------------+\n",
      "only showing top 20 rows\n",
      "\n"
     ]
    }
   ],
   "source": [
    "df_pandas_objectives_with_categories_final_score = pd.DataFrame(data=data)\n",
    "df_objectives_with_categories_final_score = spark.createDataFrame(df_pandas_objectives_with_categories_final_score)\n",
    "df_objectives_with_categories_final_score.show()"
   ]
  },
  {
   "cell_type": "markdown",
   "metadata": {},
   "source": [
    "##### Descrição dos dados"
   ]
  },
  {
   "cell_type": "code",
   "execution_count": 46,
   "metadata": {},
   "outputs": [
    {
     "name": "stdout",
     "output_type": "stream",
     "text": [
      "+-------+------------------+-------------------+------------------+------------------+-----------+------------------+---------------+-------------------+-------------------+\n",
      "|summary|      objective_id|           progress|  Líder de Líderes|Gamers Soft Skills|Lider de Si|Gamers Hard Skills|Líder de Outros|   Learning Agility|            Valores|\n",
      "+-------+------------------+-------------------+------------------+------------------+-----------+------------------+---------------+-------------------+-------------------+\n",
      "|  count|               583|                583|               583|               583|        583|               583|            583|                583|                583|\n",
      "|   mean| 483.2658662092624|0.46863296069009636|               NaN|               NaN|        NaN|               NaN|            NaN|                NaN|                NaN|\n",
      "| stddev|269.25738459574865| 0.3899458408358532|               NaN|               NaN|        NaN|               NaN|            NaN|                NaN|                NaN|\n",
      "|    min|                10|                0.0|0.5994285714285714|               0.0|        0.0|               0.0|            0.0|0.36000000000000004|0.46666666666666673|\n",
      "|    max|               921|            2.83925|               NaN|               NaN|        NaN|               NaN|            NaN|                NaN|                NaN|\n",
      "+-------+------------------+-------------------+------------------+------------------+-----------+------------------+---------------+-------------------+-------------------+\n",
      "\n"
     ]
    }
   ],
   "source": [
    "df_objectives_with_categories_final_score.describe().show()"
   ]
  },
  {
   "cell_type": "markdown",
   "metadata": {},
   "source": [
    "##### Distribuição do indicador de desempenho da cada categoria dos objetivos"
   ]
  },
  {
   "cell_type": "code",
   "execution_count": 47,
   "metadata": {},
   "outputs": [
    {
     "data": {
      "text/plain": [
       "<AxesSubplot:xlabel='Líder de Líderes', ylabel='Count'>"
      ]
     },
     "metadata": {},
     "output_type": "display_data"
    },
    {
     "data": {
      "text/plain": [
       "<AxesSubplot:xlabel='Gamers Soft Skills', ylabel='Count'>"
      ]
     },
     "metadata": {},
     "output_type": "display_data"
    },
    {
     "data": {
      "text/plain": [
       "<AxesSubplot:xlabel='Lider de Si', ylabel='Count'>"
      ]
     },
     "metadata": {},
     "output_type": "display_data"
    },
    {
     "data": {
      "text/plain": [
       "<AxesSubplot:xlabel='Gamers Hard Skills', ylabel='Count'>"
      ]
     },
     "metadata": {},
     "output_type": "display_data"
    },
    {
     "data": {
      "text/plain": [
       "<AxesSubplot:xlabel='Líder de Outros', ylabel='Count'>"
      ]
     },
     "metadata": {},
     "output_type": "display_data"
    },
    {
     "data": {
      "text/plain": [
       "<AxesSubplot:xlabel='Learning Agility', ylabel='Count'>"
      ]
     },
     "metadata": {},
     "output_type": "display_data"
    },
    {
     "data": {
      "text/plain": [
       "<AxesSubplot:xlabel='Valores', ylabel='Count'>"
      ]
     },
     "metadata": {},
     "output_type": "display_data"
    },
    {
     "data": {
      "image/png": "[encoded data removed]",
      "text/plain": [
       "<Figure size 720x576 with 1 Axes>"
      ]
     },
     "metadata": {
      "needs_background": "light"
     },
     "output_type": "display_data"
    },
    {
     "data": {
      "image/png": "[encoded data removed]",
      "text/plain": [
       "<Figure size 720x576 with 1 Axes>"
      ]
     },
     "metadata": {
      "needs_background": "light"
     },
     "output_type": "display_data"
    },
    {
     "data": {
      "image/png": "[encoded data removed]",
      "text/plain": [
       "<Figure size 720x576 with 1 Axes>"
      ]
     },
     "metadata": {
      "needs_background": "light"
     },
     "output_type": "display_data"
    },
    {
     "data": {
      "image/png": "[encoded data removed]",
      "text/plain": [
       "<Figure size 720x576 with 1 Axes>"
      ]
     },
     "metadata": {
      "needs_background": "light"
     },
     "output_type": "display_data"
    },
    {
     "data": {
      "image/png": "[encoded data removed]",
      "text/plain": [
       "<Figure size 720x576 with 1 Axes>"
      ]
     },
     "metadata": {
      "needs_background": "light"
     },
     "output_type": "display_data"
    },
    {
     "data": {
      "image/png": "[encoded data removed]",
      "text/plain": [
       "<Figure size 720x576 with 1 Axes>"
      ]
     },
     "metadata": {
      "needs_background": "light"
     },
     "output_type": "display_data"
    },
    {
     "data": {
      "image/png": "[encoded data removed]",
      "text/plain": [
       "<Figure size 720x576 with 1 Axes>"
      ]
     },
     "metadata": {
      "needs_background": "light"
     },
     "output_type": "display_data"
    }
   ],
   "source": [
    "df = df_pandas_objectives_with_categories_final_score.drop(columns=['objective_id', 'progress'])\n",
    "for _, category_title in categories:\n",
    "    plt.figure(figsize=(10,8))\n",
    "    g = sns.histplot(data=df, x=category_title, kde=True)\n",
    "    display(g)"
   ]
  },
  {
   "cell_type": "markdown",
   "metadata": {},
   "source": [
    "##### Pegando todos os usuários que possuem algum resultado de avaliação de desempenho, objetivo ou resultado chave"
   ]
  },
  {
   "cell_type": "code",
   "execution_count": 48,
   "metadata": {},
   "outputs": [],
   "source": [
    "def get_users_ids_from_dataframe(df):\n",
    "    return df.rdd \\\n",
    "        .map(lambda c: c.user_id) \\\n",
    "        .distinct() \\\n",
    "        .collect()\n",
    "\n",
    "\n",
    "users_categories = get_users_ids_from_dataframe(df_categories)\n",
    "users_subjects = get_users_ids_from_dataframe(df_subjects)\n",
    "users_questions = get_users_ids_from_dataframe(df_questions)\n",
    "all_evaluated_users = list(set(users_categories + users_subjects + users_questions))\n",
    "\n",
    "    \n",
    "users_objectives = get_users_ids_from_dataframe(df_objectives)\n",
    "users_key_results = get_users_ids_from_dataframe(df_key_results)\n",
    "all_users_with_some_objective_or_key_result = list(set(users_objectives + users_key_results))\n"
   ]
  },
  {
   "cell_type": "markdown",
   "metadata": {},
   "source": [
    "##### Quantidade de usuários que possuem algum resultado de avaliação de desempenho mas não possui nenhum resultado chave ou objetivo atrelado a ele"
   ]
  },
  {
   "cell_type": "code",
   "execution_count": 49,
   "metadata": {},
   "outputs": [
    {
     "data": {
      "text/plain": [
       "84"
      ]
     },
     "metadata": {},
     "output_type": "display_data"
    }
   ],
   "source": [
    "acc = 0\n",
    "\n",
    "for evaluated_user_id in all_evaluated_users:\n",
    "    if evaluated_user_id not in all_users_with_some_objective_or_key_result:\n",
    "        acc += 1\n",
    "\n",
    "display(acc)"
   ]
  },
  {
   "cell_type": "markdown",
   "metadata": {},
   "source": [
    "##### Quantidade de usuários que possuem algum objetivo ou resultado chave mas não possuem nenhum resultado de avaliação de desempenh atrelado a eles"
   ]
  },
  {
   "cell_type": "code",
   "execution_count": 50,
   "metadata": {},
   "outputs": [
    {
     "data": {
      "text/plain": [
       "103"
      ]
     },
     "metadata": {},
     "output_type": "display_data"
    }
   ],
   "source": [
    "acc = 0\n",
    "\n",
    "for user_id in all_users_with_some_objective_or_key_result:\n",
    "    if user_id not in all_evaluated_users:\n",
    "        acc += 1\n",
    "\n",
    "display(acc)"
   ]
  },
  {
   "cell_type": "markdown",
   "metadata": {},
   "source": [
    "#### Encerra a sessão do Spark"
   ]
  },
  {
   "cell_type": "code",
   "execution_count": 51,
   "metadata": {},
   "outputs": [
    {
     "name": "stderr",
     "output_type": "stream",
     "text": [
      "22/01/18 16:15:28 WARN HeartbeatReceiver: Removing executor driver with no recent heartbeats: 14422082 ms exceeds timeout 120000 ms\n",
      "22/01/18 16:15:28 WARN SparkContext: Killing executors is not supported by current scheduler.\n"
     ]
    }
   ],
   "source": [
    "# spark.stop()"
   ]
  }
 ],
 "metadata": {
  "interpreter": {
   "hash": "22bb92bd04889635b0a8a94a3edd3db353322d443221770d78f93eadbfa26392"
  },
  "kernelspec": {
   "display_name": "Python 3 (ipykernel)",
   "language": "python",
   "name": "python3"
  },
  "language_info": {
   "codemirror_mode": {
    "name": "ipython",
    "version": 3
   },
   "file_extension": ".py",
   "mimetype": "text/x-python",
   "name": "python",
   "nbconvert_exporter": "python",
   "pygments_lexer": "ipython3",
   "version": "3.9.7"
  },
  "orig_nbformat": 4
 },
 "nbformat": 4,
 "nbformat_minor": 2
}
