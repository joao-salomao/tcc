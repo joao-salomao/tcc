{
 "cells": [
  {
   "cell_type": "markdown",
   "id": "0c3a8a88",
   "metadata": {},
   "source": [
    "#### Instala as dependências da aplicação\n",
    "###### Baseado em: https://jakevdp.github.io/blog/2017/12/05/installing-python-packages-from-jupyter/"
   ]
  },
  {
   "cell_type": "code",
   "execution_count": 1,
   "id": "ed32748c",
   "metadata": {},
   "outputs": [
    {
     "name": "stdout",
     "output_type": "stream",
     "text": [
      "Requirement already satisfied: pandas in /opt/conda/lib/python3.9/site-packages (1.3.4)\n",
      "Requirement already satisfied: requests in /opt/conda/lib/python3.9/site-packages (2.26.0)\n",
      "Requirement already satisfied: python-dateutil>=2.7.3 in /opt/conda/lib/python3.9/site-packages (from pandas) (2.8.2)\n",
      "Requirement already satisfied: pytz>=2017.3 in /opt/conda/lib/python3.9/site-packages (from pandas) (2021.3)\n",
      "Requirement already satisfied: numpy>=1.17.3 in /opt/conda/lib/python3.9/site-packages (from pandas) (1.20.3)\n",
      "Requirement already satisfied: idna<4,>=2.5 in /opt/conda/lib/python3.9/site-packages (from requests) (3.1)\n",
      "Requirement already satisfied: certifi>=2017.4.17 in /opt/conda/lib/python3.9/site-packages (from requests) (2021.10.8)\n",
      "Requirement already satisfied: charset-normalizer~=2.0.0 in /opt/conda/lib/python3.9/site-packages (from requests) (2.0.0)\n",
      "Requirement already satisfied: urllib3<1.27,>=1.21.1 in /opt/conda/lib/python3.9/site-packages (from requests) (1.26.7)\n",
      "Requirement already satisfied: six>=1.5 in /opt/conda/lib/python3.9/site-packages (from python-dateutil>=2.7.3->pandas) (1.16.0)\n"
     ]
    }
   ],
   "source": [
    "import sys\n",
    "!{sys.executable} -m pip install pandas requests"
   ]
  },
  {
   "cell_type": "markdown",
   "id": "20f07bb8",
   "metadata": {},
   "source": [
    "#### Importa das bibliotecas necessárias"
   ]
  },
  {
   "cell_type": "code",
   "execution_count": 2,
   "id": "1cec3dec",
   "metadata": {},
   "outputs": [],
   "source": [
    "import requests\n",
    "import pandas as pd"
   ]
  },
  {
   "cell_type": "markdown",
   "id": "a48c65e1",
   "metadata": {},
   "source": [
    "#### Define os parâmetros globais do programa"
   ]
  },
  {
   "cell_type": "code",
   "execution_count": 3,
   "id": "393f10d9",
   "metadata": {},
   "outputs": [],
   "source": [
    "BASE_URL = \"\"\n",
    "LOGIN_URL = \"{}/oauth/token\".format(BASE_URL)\n",
    "OBJECTIVES_LIST_URL = \"{}/api/objectives\".format(BASE_URL)\n",
    "CLIENT_ID = \"\"\n",
    "CLIENT_SECRET = \"\"\n",
    "GRANT_TYPE = \"\"\n",
    "EMAIL = \"\"\n",
    "PASSWORD = \"\""
   ]
  },
  {
   "cell_type": "markdown",
   "id": "27872085",
   "metadata": {},
   "source": [
    "#### Cria uma factory de requisições HTTP"
   ]
  },
  {
   "cell_type": "code",
   "execution_count": 4,
   "id": "e74e6331",
   "metadata": {},
   "outputs": [],
   "source": [
    "# Factory de requisições HTTP\n",
    "def do_request(verb: str, url: str, token: str = None, data: dict = {}, params: dict = {}) -> str:\n",
    "    headers = {'Authorization': token}\n",
    "\n",
    "    method = getattr(requests, verb.lower())\n",
    "    request = method(url, headers=headers, params=params, data=data)\n",
    "    result = request.json()\n",
    "\n",
    "    if 'data' in result:\n",
    "        result = result['data']\n",
    "\n",
    "    return result"
   ]
  },
  {
   "cell_type": "markdown",
   "id": "546250ed",
   "metadata": {},
   "source": [
    "#### Função responsável por obter o token de acesso à API da Coblue"
   ]
  },
  {
   "cell_type": "code",
   "execution_count": 7,
   "id": "a96fe3db",
   "metadata": {},
   "outputs": [],
   "source": [
    "def auth() -> str:\n",
    "    payload = {\n",
    "        \"username\": EMAIL,\n",
    "        \"password\": PASSWORD,\n",
    "        \"client_id\": CLIENT_ID,\n",
    "        \"grant_type\": GRANT_TYPE,\n",
    "        \"client_secret\": CLIENT_SECRET\n",
    "    }\n",
    "\n",
    "    response = do_request('POST', LOGIN_URL, data=payload)\n",
    "\n",
    "    token_type = response['token_type']\n",
    "    access_token = response['access_token']\n",
    "\n",
    "    return \"{} {}\".format(token_type, access_token)"
   ]
  },
  {
   "cell_type": "markdown",
   "id": "e5e9e247",
   "metadata": {},
   "source": [
    "#### Função responsável por obter todos os OKR's da conta"
   ]
  },
  {
   "cell_type": "code",
   "execution_count": 8,
   "id": "599af354",
   "metadata": {},
   "outputs": [],
   "source": [
    "def get_okrs(token: str) -> list:\n",
    "    params = {\n",
    "        'with': 'user;keyResults;section;keyResults.user',\n",
    "    }\n",
    "\n",
    "    return do_request(\"GET\", OBJECTIVES_LIST_URL, token, params=params)"
   ]
  },
  {
   "cell_type": "markdown",
   "id": "d77ee10f",
   "metadata": {},
   "source": [
    "#### Funções responsáveis por salvar os dados dos OKR's para um arquivo Excel"
   ]
  },
  {
   "cell_type": "code",
   "execution_count": 9,
   "id": "7871e2ad",
   "metadata": {},
   "outputs": [],
   "source": [
    "def save_okrs_to_spreadsheet_file(data: list) -> None:\n",
    "    df_objectives = generate_objectives_dataframe(data)\n",
    "    df_key_results = generate_key_results_dataframe(data)\n",
    "\n",
    "    writer = pd.ExcelWriter('dados_okr.xlsx')\n",
    "    df_objectives.to_excel(writer, sheet_name='objectives')\n",
    "    df_key_results.to_excel(writer, sheet_name='key_results')\n",
    "\n",
    "    writer.save()\n",
    "\n",
    "\n",
    "def generate_objectives_dataframe(data: list) -> pd.DataFrame:\n",
    "    columns = [\n",
    "        'id', 'user_id', 'parent_id', 'section_id', \n",
    "        'period_id', 'progress', 'created_at'\n",
    "    ]\n",
    "    return pd.DataFrame(data, columns=columns)\n",
    "\n",
    "\n",
    "def generate_key_results_dataframe(data: list) -> pd.DataFrame:\n",
    "    key_results = []\n",
    "\n",
    "    for objective in data:\n",
    "        key_results.extend(objective['key_results'])\n",
    "\n",
    "    columns = ['id', 'objective_id', 'user_id', 'progress', 'created_at']\n",
    "    return pd.DataFrame(key_results, columns=columns)"
   ]
  },
  {
   "cell_type": "markdown",
   "id": "bbfbec9d",
   "metadata": {},
   "source": [
    "#### Execução do processo de extração dos dados"
   ]
  },
  {
   "cell_type": "code",
   "execution_count": 10,
   "id": "6531f7b0",
   "metadata": {},
   "outputs": [],
   "source": [
    "# Gera o token de acesso a API da plataforma\n",
    "token = auth()\n",
    "\n",
    "# Requisita todos os OKR's em conjunto com os seus Resultados Chaves,\n",
    "# usuário responsável, objetivo pai e unidade ou departamento ao qual\n",
    "# o objetivo está atrelado\n",
    "okrs = get_okrs(token)\n",
    "\n",
    "# Salva a resposta da API que é obtida no formato JSON para\n",
    "# um arquivo de planilha contendo os dados para uso posterior\n",
    "save_okrs_to_spreadsheet_file(okrs)"
   ]
  }
 ],
 "metadata": {
  "kernelspec": {
   "display_name": "Python 3 (ipykernel)",
   "language": "python",
   "name": "python3"
  }
 },
 "nbformat": 4,
 "nbformat_minor": 5
}
